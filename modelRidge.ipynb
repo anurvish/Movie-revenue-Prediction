{
  "nbformat": 4,
  "nbformat_minor": 0,
  "metadata": {
    "colab": {
      "name": "modelRidge.ipynb",
      "provenance": [],
      "collapsed_sections": []
    },
    "kernelspec": {
      "name": "python3",
      "display_name": "Python 3"
    },
    "language_info": {
      "name": "python"
    }
  },
  "cells": [
    {
      "cell_type": "code",
      "metadata": {
        "id": "wiYkvZSUMlG-",
        "colab": {
          "base_uri": "https://localhost:8080/"
        },
        "outputId": "64c2d704-9067-4ca1-dbd1-be45df31a452"
      },
      "source": [
        "from google.colab import drive\n",
        "drive.mount('/content/drive')"
      ],
      "execution_count": null,
      "outputs": [
        {
          "output_type": "stream",
          "name": "stdout",
          "text": [
            "Drive already mounted at /content/drive; to attempt to forcibly remount, call drive.mount(\"/content/drive\", force_remount=True).\n"
          ]
        }
      ]
    },
    {
      "cell_type": "code",
      "metadata": {
        "id": "tK1j8K_MNoUz"
      },
      "source": [
        "import pandas as pd\n",
        "import numpy as np\n",
        "import math\n",
        "from sklearn.model_selection import train_test_split\n",
        "from sklearn.metrics import mean_squared_error, mean_absolute_error\n",
        "from sklearn.model_selection import  cross_val_score\n",
        "from sklearn.preprocessing import normalize,StandardScaler,MinMaxScaler\n",
        "from sklearn.linear_model import LinearRegression , Ridge\n",
        "from sklearn.dummy import DummyRegressor\n",
        "from sklearn.metrics import mean_squared_error,r2_score\n",
        "from sklearn.model_selection import KFold\n",
        "from matplotlib import pyplot as plt"
      ],
      "execution_count": 1,
      "outputs": []
    },
    {
      "cell_type": "code",
      "metadata": {
        "id": "BNHjWktnWp_g"
      },
      "source": [
        "#reading the data from CSV file\n",
        "df = pd.read_csv(\"final_data.csv\", )\n",
        "\n",
        "#Obtained preprocessed data\n",
        "df = df.replace(np.NaN, 0)\n",
        "\n",
        "#dropping columns considered as not available during movie conception stage and irrelevant columns\n",
        "df.drop(labels=['Unnamed: 0'],axis=1,inplace=True)\n",
        "df.drop(labels=['release_date_main'],axis=1,inplace=True)\n",
        "df.drop(labels=['id_main'],axis=1,inplace=True)\n",
        "df.drop(labels=['runtime_main'],axis=1,inplace=True)\n",
        "\n",
        "#Splitting the data into Independent features and target variable \n",
        "Independent_features = df.iloc[:,1:]\n",
        "Target = df.iloc[:,0]\n",
        "Independent_features = Independent_features.replace(np.nan,0)"
      ],
      "execution_count": 4,
      "outputs": []
    },
    {
      "cell_type": "code",
      "metadata": {
        "id": "0hL5d6_bM_er"
      },
      "source": [
        "# calculate Variance inflation factor for the given data frame\n",
        "def calculate_vif(df, features):    \n",
        "    vif, tolerance = {}, {}\n",
        "    # all the features that you want to examine\n",
        "    for feature in features:\n",
        "        # extract all the other features you will regress against\n",
        "        X = [f for f in features if f != feature]        \n",
        "        X, y = df[X], df[feature]\n",
        "        # extract r-squared from the fitb\n",
        "        r2 = LinearRegression().fit(X, y).score(X, y)                \n",
        "        \n",
        "        # calculate tolerance\n",
        "        tolerance[feature] = 1 - r2\n",
        "        # calculate VIF\n",
        "        vif[feature] = 1/(tolerance[feature])\n",
        "    # return VIF DataFrame\n",
        "    return pd.DataFrame({'VIF': vif, 'Tolerance': tolerance})\n"
      ],
      "execution_count": 5,
      "outputs": []
    },
    {
      "cell_type": "code",
      "metadata": {
        "id": "KpZxQnqtM_ZL",
        "colab": {
          "base_uri": "https://localhost:8080/"
        },
        "outputId": "a1c57dd1-b52f-4176-d37f-2d2eadf21ccc"
      },
      "source": [
        "df_vif = calculate_vif(Independent_features,['budget_main','Action_genre_main',\n",
        "       'Adventure_genre_main', 'Animation_genre_main', 'Comedy_genre_main',\n",
        "       'Crime_genre_main', 'Documentary_genre_main', 'Drama_genre_main',\n",
        "       'Family_genre_main', 'Fantasy_genre_main', 'History_genre_main',\n",
        "       'Horror_genre_main', 'Music_genre_main', 'Mystery_genre_main',\n",
        "       'Romance_genre_main', 'Science Fiction_genre_main',\n",
        "       'TV Movie_genre_main', 'Thriller_genre_main', 'War_genre_main',\n",
        "       'Western_genre_main', 'collection_popularity_coll_details','popularity_crew', '0_gender_crew', '1_gender_crew',\n",
        "       '2_gender_crew','Directing_relevance_crew', 'popularity_crew_2',\n",
        "       '0_gender_crew_2', '1_gender_crew_2', '2_gender_crew_2','Directing_relevance_crew_2', 'popularity_crew_3',\n",
        "       '0_gender_crew_3', '1_gender_crew_3', '2_gender_crew_3','Directing_relevance_crew_3', 'popularity_cast',\n",
        "       '2_gender_cast', '1_gender_cast', '0_gender_cast', '3_gender_cast',\n",
        "       'Acting_relevance_cast', 'popularity_cast_2', '2_gender_cast_2',\n",
        "       '1_gender_cast_2', '0_gender_cast_2', '3_gender_cast_2',\n",
        "       'Acting_relevance_cast_2', 'popularity_cast_3', '2_gender_cast_3',\n",
        "       '1_gender_cast_3', '0_gender_cast_3', '3_gender_cast_3',\n",
        "       'Acting_relevance_cast_3', 'popularity_cast_4', '2_gender_cast_4',\n",
        "       '1_gender_cast_4', '0_gender_cast_4', '3_gender_cast_4',\n",
        "       'Acting_relevance_cast_4', 'popularity_cast_5', '2_gender_cast_5',\n",
        "       '1_gender_cast_5', '0_gender_cast_5', '3_gender_cast_5',\n",
        "       'Acting_relevance_cast_5'])"
      ],
      "execution_count": 6,
      "outputs": [
        {
          "output_type": "stream",
          "name": "stderr",
          "text": [
            "/usr/local/lib/python3.7/dist-packages/ipykernel_launcher.py:15: RuntimeWarning: divide by zero encountered in double_scalars\n",
            "  from ipykernel import kernelapp as app\n",
            "/usr/local/lib/python3.7/dist-packages/ipykernel_launcher.py:15: RuntimeWarning: divide by zero encountered in double_scalars\n",
            "  from ipykernel import kernelapp as app\n",
            "/usr/local/lib/python3.7/dist-packages/ipykernel_launcher.py:15: RuntimeWarning: divide by zero encountered in double_scalars\n",
            "  from ipykernel import kernelapp as app\n",
            "/usr/local/lib/python3.7/dist-packages/ipykernel_launcher.py:15: RuntimeWarning: divide by zero encountered in double_scalars\n",
            "  from ipykernel import kernelapp as app\n",
            "/usr/local/lib/python3.7/dist-packages/ipykernel_launcher.py:15: RuntimeWarning: divide by zero encountered in double_scalars\n",
            "  from ipykernel import kernelapp as app\n",
            "/usr/local/lib/python3.7/dist-packages/ipykernel_launcher.py:15: RuntimeWarning: divide by zero encountered in double_scalars\n",
            "  from ipykernel import kernelapp as app\n",
            "/usr/local/lib/python3.7/dist-packages/ipykernel_launcher.py:15: RuntimeWarning: divide by zero encountered in double_scalars\n",
            "  from ipykernel import kernelapp as app\n",
            "/usr/local/lib/python3.7/dist-packages/ipykernel_launcher.py:15: RuntimeWarning: divide by zero encountered in double_scalars\n",
            "  from ipykernel import kernelapp as app\n",
            "/usr/local/lib/python3.7/dist-packages/ipykernel_launcher.py:15: RuntimeWarning: divide by zero encountered in double_scalars\n",
            "  from ipykernel import kernelapp as app\n",
            "/usr/local/lib/python3.7/dist-packages/ipykernel_launcher.py:15: RuntimeWarning: divide by zero encountered in double_scalars\n",
            "  from ipykernel import kernelapp as app\n",
            "/usr/local/lib/python3.7/dist-packages/ipykernel_launcher.py:15: RuntimeWarning: divide by zero encountered in double_scalars\n",
            "  from ipykernel import kernelapp as app\n",
            "/usr/local/lib/python3.7/dist-packages/ipykernel_launcher.py:15: RuntimeWarning: divide by zero encountered in double_scalars\n",
            "  from ipykernel import kernelapp as app\n",
            "/usr/local/lib/python3.7/dist-packages/ipykernel_launcher.py:15: RuntimeWarning: divide by zero encountered in double_scalars\n",
            "  from ipykernel import kernelapp as app\n",
            "/usr/local/lib/python3.7/dist-packages/ipykernel_launcher.py:15: RuntimeWarning: divide by zero encountered in double_scalars\n",
            "  from ipykernel import kernelapp as app\n",
            "/usr/local/lib/python3.7/dist-packages/ipykernel_launcher.py:15: RuntimeWarning: divide by zero encountered in double_scalars\n",
            "  from ipykernel import kernelapp as app\n",
            "/usr/local/lib/python3.7/dist-packages/ipykernel_launcher.py:15: RuntimeWarning: divide by zero encountered in double_scalars\n",
            "  from ipykernel import kernelapp as app\n",
            "/usr/local/lib/python3.7/dist-packages/ipykernel_launcher.py:15: RuntimeWarning: divide by zero encountered in double_scalars\n",
            "  from ipykernel import kernelapp as app\n",
            "/usr/local/lib/python3.7/dist-packages/ipykernel_launcher.py:15: RuntimeWarning: divide by zero encountered in double_scalars\n",
            "  from ipykernel import kernelapp as app\n",
            "/usr/local/lib/python3.7/dist-packages/ipykernel_launcher.py:15: RuntimeWarning: divide by zero encountered in double_scalars\n",
            "  from ipykernel import kernelapp as app\n",
            "/usr/local/lib/python3.7/dist-packages/ipykernel_launcher.py:15: RuntimeWarning: divide by zero encountered in double_scalars\n",
            "  from ipykernel import kernelapp as app\n",
            "/usr/local/lib/python3.7/dist-packages/ipykernel_launcher.py:15: RuntimeWarning: divide by zero encountered in double_scalars\n",
            "  from ipykernel import kernelapp as app\n",
            "/usr/local/lib/python3.7/dist-packages/ipykernel_launcher.py:15: RuntimeWarning: divide by zero encountered in double_scalars\n",
            "  from ipykernel import kernelapp as app\n",
            "/usr/local/lib/python3.7/dist-packages/ipykernel_launcher.py:15: RuntimeWarning: divide by zero encountered in double_scalars\n",
            "  from ipykernel import kernelapp as app\n",
            "/usr/local/lib/python3.7/dist-packages/ipykernel_launcher.py:15: RuntimeWarning: divide by zero encountered in double_scalars\n",
            "  from ipykernel import kernelapp as app\n",
            "/usr/local/lib/python3.7/dist-packages/ipykernel_launcher.py:15: RuntimeWarning: divide by zero encountered in double_scalars\n",
            "  from ipykernel import kernelapp as app\n",
            "/usr/local/lib/python3.7/dist-packages/ipykernel_launcher.py:15: RuntimeWarning: divide by zero encountered in double_scalars\n",
            "  from ipykernel import kernelapp as app\n",
            "/usr/local/lib/python3.7/dist-packages/ipykernel_launcher.py:15: RuntimeWarning: divide by zero encountered in double_scalars\n",
            "  from ipykernel import kernelapp as app\n",
            "/usr/local/lib/python3.7/dist-packages/ipykernel_launcher.py:15: RuntimeWarning: divide by zero encountered in double_scalars\n",
            "  from ipykernel import kernelapp as app\n",
            "/usr/local/lib/python3.7/dist-packages/ipykernel_launcher.py:15: RuntimeWarning: divide by zero encountered in double_scalars\n",
            "  from ipykernel import kernelapp as app\n"
          ]
        }
      ]
    },
    {
      "cell_type": "code",
      "metadata": {
        "id": "v7FhQF4LM_WH"
      },
      "source": [
        "Independent_features = Independent_features[['budget_main','Action_genre_main',\n",
        "       'Adventure_genre_main', 'Animation_genre_main', 'Comedy_genre_main',\n",
        "       'Crime_genre_main', 'Documentary_genre_main', 'Drama_genre_main',\n",
        "       'Family_genre_main', 'Fantasy_genre_main', 'History_genre_main',\n",
        "       'Horror_genre_main', 'Music_genre_main', 'Mystery_genre_main',\n",
        "       'Romance_genre_main', 'Science Fiction_genre_main',\n",
        "       'TV Movie_genre_main', 'Thriller_genre_main', 'War_genre_main',\n",
        "       'Western_genre_main', 'collection_popularity_coll_details','popularity_crew', 'popularity_crew_2', 'popularity_crew_3', 'popularity_cast', \n",
        "       'popularity_cast_2', 'popularity_cast_3', 'popularity_cast_4', 'popularity_cast_5']]"
      ],
      "execution_count": 7,
      "outputs": []
    },
    {
      "cell_type": "code",
      "metadata": {
        "id": "LGgARfrEM_Nl"
      },
      "source": [
        "#Scaling budget and revenue columns\n",
        "mms_budget = MinMaxScaler()\n",
        "mms_budget.fit(Independent_features['budget_main'].to_numpy().reshape(-1,1))\n",
        "Independent_features['budget_main'] = mms_budget.fit_transform(Independent_features['budget_main'].to_numpy().reshape(-1,1))\n",
        "\n",
        "mms_revenue = MinMaxScaler()\n",
        "mms_revenue.fit(Target.values.reshape(-1,1))\n",
        "Target = mms_revenue.fit_transform(Target.values.reshape(-1,1))"
      ],
      "execution_count": 8,
      "outputs": []
    },
    {
      "cell_type": "code",
      "metadata": {
        "id": "GKhHq0qUZdZn"
      },
      "source": [
        "#splitting the final data into train and test data \n",
        "xtrain, xtest, ytrain, ytest = train_test_split(Independent_features, Target, test_size=0.2)"
      ],
      "execution_count": 9,
      "outputs": []
    },
    {
      "cell_type": "code",
      "metadata": {
        "id": "dF7DS3_oZGvU"
      },
      "source": [
        "C_para_r = [0.001, 0.005, 0.01, 0.05, 0.08, 0.1, 0.2, 0.5]\n",
        "alpha_para_r = [1/(2*C) for C in C_para_r]\n",
        "ridge_list = [Ridge(alpha=alpha) for alpha in alpha_para_r]"
      ],
      "execution_count": 12,
      "outputs": []
    },
    {
      "cell_type": "code",
      "metadata": {
        "colab": {
          "base_uri": "https://localhost:8080/",
          "height": 295
        },
        "id": "bQ4SFPWMfhuY",
        "outputId": "6d0840f8-140f-4cf0-ace4-9ec7677998e7"
      },
      "source": [
        "#ploting the mean and standard daviation value for Ridge Regression RMSE\n",
        "mean_error_R2=[]; std_error_R2=[]; mean_error_RMSE=[]; std_error_RMSE=[]\n",
        "for model in ridge_list:\n",
        "  temp_R2=[];temp_RMSE = []\n",
        "  kf = KFold(n_splits=5)\n",
        "  for train, test in kf.split(xtrain):\n",
        "    model.fit(Independent_features.iloc[train], Target[train])\n",
        "    ypred = model.predict(Independent_features.iloc[test])\n",
        "    temp_RMSE.append(mean_squared_error(Target[test],ypred))\n",
        "    temp_R2.append(r2_score(Target[test],ypred))\n",
        "  mean_error_R2.append(np.array(temp_R2).mean())\n",
        "  std_error_R2.append(np.array(temp_R2).std())\n",
        "  mean_error_RMSE.append(np.array(temp_RMSE).mean())\n",
        "  std_error_RMSE.append(np.array(temp_RMSE).std())\n",
        "\n",
        "plt.errorbar(C_para_r,mean_error_R2,yerr=std_error_R2)\n",
        "plt.xlabel('Ci'); plt.ylabel('R2')\n",
        "plt.xlim((0.0001,0.5))\n",
        "plt.title('Cross Validation for Ridge')\n",
        "plt.show()"
      ],
      "execution_count": 21,
      "outputs": [
        {
          "output_type": "display_data",
          "data": {
            "image/png": "[encoded data removed]",
            "text/plain": [
              "<Figure size 432x288 with 1 Axes>"
            ]
          },
          "metadata": {
            "needs_background": "light"
          }
        }
      ]
    },
    {
      "cell_type": "code",
      "metadata": {
        "colab": {
          "base_uri": "https://localhost:8080/",
          "height": 295
        },
        "id": "OkO-fPBggDUm",
        "outputId": "40e832ec-3424-47ed-b093-348aafb3d5b3"
      },
      "source": [
        "#ploting the mean and standard daviation value for Ridge Regression RMSE\n",
        "plt.errorbar(C_para_r,mean_error_RMSE,yerr=std_error_RMSE)\n",
        "plt.xlabel('Ci'); plt.ylabel('RMSE')\n",
        "plt.xlim((0.0001,0.5))\n",
        "plt.title('Cross Validation for Ridge')\n",
        "plt.show()"
      ],
      "execution_count": 20,
      "outputs": [
        {
          "output_type": "display_data",
          "data": {
            "image/png": "[encoded data removed]",
            "text/plain": [
              "<Figure size 432x288 with 1 Axes>"
            ]
          },
          "metadata": {
            "needs_background": "light"
          }
        }
      ]
    },
    {
      "cell_type": "code",
      "metadata": {
        "colab": {
          "base_uri": "https://localhost:8080/"
        },
        "id": "3X9-Jb2Zk3L_",
        "outputId": "504227ea-f63e-4de0-84cc-0cefb560fc8e"
      },
      "source": [
        "#Training Ridge model with optimal c value for predictions\n",
        "model = Ridge(alpha=1/(2*0.1)).fit(xtrain,ytrain)\n",
        "print('Test R2 score: ' + str(r2_score(ytest,model.predict(xtest))))\n",
        "print('Test RMSE score: ' + str(mean_squared_error(ytest,model.predict(xtest),squared=False)))"
      ],
      "execution_count": 16,
      "outputs": [
        {
          "output_type": "stream",
          "name": "stdout",
          "text": [
            "Test R2 score: 0.5886759077576427\n",
            "Test RMSE score: 0.03620647333246131\n"
          ]
        }
      ]
    }
  ]
}