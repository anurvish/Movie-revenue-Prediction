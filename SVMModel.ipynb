{
  "nbformat": 4,
  "nbformat_minor": 0,
  "metadata": {
    "colab": {
      "name": "SVMModel.ipynb",
      "provenance": [],
      "collapsed_sections": []
    },
    "kernelspec": {
      "name": "python3",
      "display_name": "Python 3"
    },
    "language_info": {
      "name": "python"
    }
  },
  "cells": [
    {
      "cell_type": "code",
      "metadata": {
        "colab": {
          "base_uri": "https://localhost:8080/"
        },
        "id": "21dJGEv8RFIc",
        "outputId": "c87ac62c-8d93-43eb-b9d5-9e766326a2dc"
      },
      "source": [
        "from google.colab import drive\n",
        "drive.mount('/content/drive')"
      ],
      "execution_count": 1,
      "outputs": [
        {
          "output_type": "stream",
          "name": "stdout",
          "text": [
            "Drive already mounted at /content/drive; to attempt to forcibly remount, call drive.mount(\"/content/drive\", force_remount=True).\n"
          ]
        }
      ]
    },
    {
      "cell_type": "code",
      "metadata": {
        "id": "329aaYKTTew4"
      },
      "source": [
        "import pandas as pd\n",
        "import numpy as np\n",
        "df = pd.read_csv(\"/content/drive/MyDrive/ML/GroupProject/final_data.csv\", )\n",
        "df.head()\n",
        "df = df.replace(np.NaN, 0)\n",
        "df\n",
        "X = df.iloc[:, 1:]\n",
        "y = df.iloc[:, 0]"
      ],
      "execution_count": 2,
      "outputs": []
    },
    {
      "cell_type": "code",
      "metadata": {
        "id": "WCkMwSolTuDb"
      },
      "source": [
        "from sklearn.model_selection import train_test_split\n",
        "xtrain, xtest, ytrain, ytest = train_test_split(X, y, test_size=0.2)"
      ],
      "execution_count": 3,
      "outputs": []
    },
    {
      "cell_type": "code",
      "metadata": {
        "colab": {
          "base_uri": "https://localhost:8080/"
        },
        "id": "te6_Oy7NTYjk",
        "outputId": "b18cfbb7-23d8-467a-f3fe-5d91f9cc4be4"
      },
      "source": [
        "from sklearn.svm import LinearSVC\n",
        "from sklearn.metrics import accuracy_score\n",
        "svm1 = LinearSVC(C=0.001)  \n",
        "svm1.fit(xtrain, ytrain)\n",
        "print(f'Coefficient Values for SVM model1:  {svm1.coef_}')\n",
        "print(f'Intercept Values for SVM model1: {svm1.intercept_ }')\n",
        "yPred1 = svm1.predict(xtrain)\n",
        "print(f'Training set accuracy of SVM model1: {accuracy_score(ytrain, yPred1)}')\n",
        "\n",
        "svm2 = LinearSVC(C=1)\n",
        "svm2.fit(xtrain, ytrain)\n",
        "print(f'Coefficient Values for SVM model2:  {svm2.coef_}')\n",
        "print(f'Intercept Values for SVM model2:  {svm2.intercept_ }')\n",
        "yPred2 = svm2.predict(xtrain)\n",
        "print(f'Training set accuracy of SVM model2: {accuracy_score(ytrain, yPred2)}')\n",
        "\n",
        "svm3 = LinearSVC(C=100)\n",
        "svm3.fit(xtrain, ytrain)\n",
        "print(f'Coefficient Values for SVM model3:  {svm3.coef_}')\n",
        "print(f'Intercept Values for SVM model3: {svm3.intercept_ }')\n",
        "yPred3 = svm3.predict(xtrain)\n",
        "print(f'Training set accuracy of SVM model3: {accuracy_score(ytrain, yPred3)}')"
      ],
      "execution_count": 4,
      "outputs": [
        {
          "output_type": "stream",
          "name": "stderr",
          "text": [
            "/usr/local/lib/python3.7/dist-packages/sklearn/svm/_base.py:1208: ConvergenceWarning: Liblinear failed to converge, increase the number of iterations.\n",
            "  ConvergenceWarning,\n"
          ]
        },
        {
          "output_type": "stream",
          "name": "stdout",
          "text": [
            "Coefficient Values for SVM model1:  [[ 0.00000000e+00 -5.76538855e-04  2.11907781e-04 ... -3.65051486e-07\n",
            "   0.00000000e+00 -3.65051486e-07]\n",
            " [ 0.00000000e+00 -5.25124666e-05 -1.77765179e-04 ... -2.04724418e-06\n",
            "   0.00000000e+00 -2.04724418e-06]\n",
            " [ 0.00000000e+00 -3.16936151e-05 -4.83517148e-05 ... -2.09703021e-06\n",
            "   0.00000000e+00 -2.09703021e-06]\n",
            " ...\n",
            " [ 0.00000000e+00 -4.90313303e-05 -4.45179114e-04 ... -2.06039872e-06\n",
            "   0.00000000e+00 -2.06039872e-06]\n",
            " [ 0.00000000e+00  2.75470339e-07 -4.72722462e-04 ... -2.11333011e-06\n",
            "   0.00000000e+00 -2.11333011e-06]\n",
            " [ 0.00000000e+00  4.61470302e-08 -4.95635785e-04 ... -2.13177554e-06\n",
            "   0.00000000e+00 -2.13177554e-06]]\n",
            "Intercept Values for SVM model1: [-3.51859342e-07 -2.04724418e-06 -2.09703021e-06 ... -2.06039872e-06\n",
            " -2.11333011e-06 -2.13177554e-06]\n",
            "Training set accuracy of SVM model1: 0.0008194482381862879\n"
          ]
        },
        {
          "output_type": "stream",
          "name": "stderr",
          "text": [
            "/usr/local/lib/python3.7/dist-packages/sklearn/svm/_base.py:1208: ConvergenceWarning: Liblinear failed to converge, increase the number of iterations.\n",
            "  ConvergenceWarning,\n"
          ]
        },
        {
          "output_type": "stream",
          "name": "stdout",
          "text": [
            "Coefficient Values for SVM model2:  [[ 0.00000000e+00 -1.30781017e-04  1.28650672e-06 ... -2.01794663e-06\n",
            "   0.00000000e+00 -2.01794663e-06]\n",
            " [ 0.00000000e+00  1.52465832e-06 -1.75737321e-04 ... -2.02894133e-06\n",
            "   0.00000000e+00 -2.02894133e-06]\n",
            " [ 0.00000000e+00  1.65690671e-06 -5.65064353e-05 ... -2.05488608e-06\n",
            "   0.00000000e+00 -2.05488608e-06]\n",
            " ...\n",
            " [ 0.00000000e+00 -4.90387100e-05 -4.48607200e-04 ... -2.07626646e-06\n",
            "   0.00000000e+00 -2.07626646e-06]\n",
            " [ 0.00000000e+00 -4.89873600e-05 -4.53769970e-04 ... -2.02847585e-06\n",
            "   0.00000000e+00 -2.02847585e-06]\n",
            " [ 0.00000000e+00  4.41013213e-08 -4.71452999e-04 ... -2.02776313e-06\n",
            "   0.00000000e+00 -2.02776313e-06]]\n",
            "Intercept Values for SVM model2:  [-1.92378994e-06 -2.02894133e-06 -2.05488608e-06 ... -2.07626646e-06\n",
            " -2.02847585e-06 -2.02776313e-06]\n",
            "Training set accuracy of SVM model2: 0.0002731494127287626\n",
            "Coefficient Values for SVM model3:  [[ 0.00000000e+00 -5.76641526e-04  2.11960487e-04 ... -3.65119533e-07\n",
            "   0.00000000e+00 -3.65119533e-07]\n",
            " [ 0.00000000e+00  1.54931430e-06 -1.78743565e-04 ... -2.06364922e-06\n",
            "   0.00000000e+00 -2.06364922e-06]\n",
            " [ 0.00000000e+00 -5.40716179e-05 -6.16964359e-05 ... -2.03360960e-06\n",
            "   0.00000000e+00 -2.03360960e-06]\n",
            " ...\n",
            " [ 0.00000000e+00 -4.91105812e-05 -4.43663672e-04 ... -2.05338375e-06\n",
            "   0.00000000e+00 -2.05338375e-06]\n",
            " [ 0.00000000e+00 -4.86330364e-05 -4.78252636e-04 ... -2.13792774e-06\n",
            "   0.00000000e+00 -2.13792774e-06]\n",
            " [ 0.00000000e+00  4.49734685e-08 -4.81762846e-04 ... -2.07210674e-06\n",
            "   0.00000000e+00 -2.07210674e-06]]\n",
            "Intercept Values for SVM model3: [-3.51924899e-07 -2.06364922e-06 -2.03360960e-06 ... -2.05338375e-06\n",
            " -2.13792774e-06 -2.07210674e-06]\n",
            "Training set accuracy of SVM model3: 0.0010925976509150504\n"
          ]
        },
        {
          "output_type": "stream",
          "name": "stderr",
          "text": [
            "/usr/local/lib/python3.7/dist-packages/sklearn/svm/_base.py:1208: ConvergenceWarning: Liblinear failed to converge, increase the number of iterations.\n",
            "  ConvergenceWarning,\n"
          ]
        }
      ]
    },
    {
      "cell_type": "code",
      "metadata": {
        "id": "-2Yl4uvwbvZP"
      },
      "source": [
        ""
      ],
      "execution_count": 4,
      "outputs": []
    },
    {
      "cell_type": "code",
      "metadata": {
        "id": "W3el7svBb4yn"
      },
      "source": [
        ""
      ],
      "execution_count": 4,
      "outputs": []
    },
    {
      "cell_type": "code",
      "metadata": {
        "id": "5oApGNI7b6uZ"
      },
      "source": [
        ""
      ],
      "execution_count": 4,
      "outputs": []
    }
  ]
}