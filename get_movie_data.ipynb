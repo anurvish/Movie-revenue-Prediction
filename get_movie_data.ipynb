{
 "cells": [
  {
   "cell_type": "code",
   "execution_count": 3,
   "id": "f8dda9df-addd-472a-a56a-855417d75fbc",
   "metadata": {},
   "outputs": [],
   "source": [
    "import json\n",
    "import requests\n",
    "import locale\n",
    "import csv\n",
    "import re\n",
    "import os"
   ]
  },
  {
   "cell_type": "code",
   "execution_count": null,
   "id": "d13ff3c7-0e88-4f52-8d20-662b93460654",
   "metadata": {},
   "outputs": [],
   "source": [
    "output_folder = os.get"
   ]
  },
  {
   "cell_type": "code",
   "execution_count": 2,
   "id": "8f709ff7-f66b-4677-9195-cf5401b498d2",
   "metadata": {},
   "outputs": [],
   "source": [
    "def fetch_movie_titles():\n",
    "    data_file = open('data_file.csv', 'w')\n",
    "    csv_writer = csv.writer(data_file)\n",
    "    url1 = 'https://api.themoviedb.org/3/discover/movie?api_key=308b04f2b1399d2700c3d6209623e241&include_all_movies=true&language=en&page='\n",
    "    for x in range(500):\n",
    "      url = url1+str(x+1)\n",
    "      response = requests.get(url)\n",
    "      response_json = response.json()\n",
    "      print(response_json)\n",
    "      results = response_json['results']\n",
    "      if(x==0):\n",
    "        csv_writer.writerow(results[0].keys())\n",
    "      for result in results:\n",
    "        print(result.values())\n",
    "        csv_writer.writerow(result.values())\n",
    "    data_file.close()"
   ]
  },
  {
   "cell_type": "code",
   "execution_count": null,
   "id": "19afd541-514e-4fbc-ac4c-228d2352ab61",
   "metadata": {},
   "outputs": [],
   "source": []
  }
 ],
 "metadata": {
  "kernelspec": {
   "display_name": "Python 3 (ipykernel)",
   "language": "python",
   "name": "python3"
  },
  "language_info": {
   "codemirror_mode": {
    "name": "ipython",
    "version": 3
   },
   "file_extension": ".py",
   "mimetype": "text/x-python",
   "name": "python",
   "nbconvert_exporter": "python",
   "pygments_lexer": "ipython3",
   "version": "3.9.9"
  }
 },
 "nbformat": 4,
 "nbformat_minor": 5
}
