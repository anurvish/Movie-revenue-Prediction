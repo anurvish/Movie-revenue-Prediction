{
  "nbformat": 4,
  "nbformat_minor": 0,
  "metadata": {
    "colab": {
      "name": "modelLasso.ipynb",
      "provenance": [],
      "collapsed_sections": []
    },
    "kernelspec": {
      "name": "python3",
      "display_name": "Python 3"
    },
    "language_info": {
      "name": "python"
    }
  },
  "cells": [
    {
      "cell_type": "markdown",
      "metadata": {
        "id": "view-in-github"
      },
      "source": [
        "<a href=\"https://colab.research.google.com/github/anurvish/Scalable_Data/blob/main/modelLasso.ipynb\" target=\"_parent\"><img src=\"https://colab.research.google.com/assets/colab-badge.svg\" alt=\"Open In Colab\"/></a>"
      ]
    },
    {
      "cell_type": "code",
      "metadata": {
        "id": "tK1j8K_MNoUz"
      },
      "source": [
        "import pandas as pd\n",
        "import numpy as np\n",
        "import math\n",
        "from sklearn.model_selection import train_test_split\n",
        "from sklearn.metrics import mean_squared_error, mean_absolute_error\n",
        "from sklearn.model_selection import  cross_val_score\n",
        "from sklearn.preprocessing import normalize,StandardScaler,MinMaxScaler\n",
        "from sklearn.linear_model import LinearRegression , Lasso, Ridge\n",
        "from sklearn.dummy import DummyRegressor\n",
        "from sklearn.metrics import mean_squared_error,r2_score\n",
        "from sklearn.model_selection import KFold\n",
        "from matplotlib import pyplot as plt"
      ],
      "execution_count": 1,
      "outputs": []
    },
    {
      "cell_type": "code",
      "metadata": {
        "id": "BNHjWktnWp_g"
      },
      "source": [
        "#reading the data from CSV file\n",
        "df = pd.read_csv(\"final_data.csv\", )\n",
        "\n",
        "#Obtained preprocessed data\n",
        "df = df.replace(np.NaN, 0)\n",
        "\n",
        "#dropping columns considered as not available during movie conception stage and irrelevant columns\n",
        "df.drop(labels=['Unnamed: 0'],axis=1,inplace=True)\n",
        "df.drop(labels=['release_date_main'],axis=1,inplace=True)\n",
        "df.drop(labels=['id_main'],axis=1,inplace=True)\n",
        "df.drop(labels=['runtime_main'],axis=1,inplace=True)\n",
        "\n",
        "#Splitting the data into Independent features and target variable \n",
        "Independent_features = df.iloc[:,1:]\n",
        "Target = df.iloc[:,0]\n",
        "Independent_features = Independent_features.replace(np.nan,0)"
      ],
      "execution_count": 3,
      "outputs": []
    },
    {
      "cell_type": "code",
      "metadata": {
        "id": "0hL5d6_bM_er"
      },
      "source": [
        "# calculate Variance inflation factor for the given data frame\n",
        "def calculate_vif(df, features):    \n",
        "    vif, tolerance = {}, {}\n",
        "    # all the features that you want to examine\n",
        "    for feature in features:\n",
        "        # extract all the other features you will regress against\n",
        "        X = [f for f in features if f != feature]        \n",
        "        X, y = df[X], df[feature]\n",
        "        # extract r-squared from the fitb\n",
        "        r2 = LinearRegression().fit(X, y).score(X, y)                \n",
        "        \n",
        "        # calculate tolerance\n",
        "        tolerance[feature] = 1 - r2\n",
        "        # calculate VIF\n",
        "        vif[feature] = 1/(tolerance[feature])\n",
        "    # return VIF DataFrame\n",
        "    return pd.DataFrame({'VIF': vif, 'Tolerance': tolerance})\n"
      ],
      "execution_count": 4,
      "outputs": []
    },
    {
      "cell_type": "code",
      "metadata": {
        "id": "KpZxQnqtM_ZL",
        "colab": {
          "base_uri": "https://localhost:8080/"
        },
        "outputId": "ddb320fd-52bc-4f25-be5f-60460ee3ea19"
      },
      "source": [
        "df_vif = calculate_vif(Independent_features,['budget_main','Action_genre_main',\n",
        "       'Adventure_genre_main', 'Animation_genre_main', 'Comedy_genre_main',\n",
        "       'Crime_genre_main', 'Documentary_genre_main', 'Drama_genre_main',\n",
        "       'Family_genre_main', 'Fantasy_genre_main', 'History_genre_main',\n",
        "       'Horror_genre_main', 'Music_genre_main', 'Mystery_genre_main',\n",
        "       'Romance_genre_main', 'Science Fiction_genre_main',\n",
        "       'TV Movie_genre_main', 'Thriller_genre_main', 'War_genre_main',\n",
        "       'Western_genre_main', 'collection_popularity_coll_details','popularity_crew', '0_gender_crew', '1_gender_crew',\n",
        "       '2_gender_crew','Directing_relevance_crew', 'popularity_crew_2',\n",
        "       '0_gender_crew_2', '1_gender_crew_2', '2_gender_crew_2','Directing_relevance_crew_2', 'popularity_crew_3',\n",
        "       '0_gender_crew_3', '1_gender_crew_3', '2_gender_crew_3','Directing_relevance_crew_3', 'popularity_cast',\n",
        "       '2_gender_cast', '1_gender_cast', '0_gender_cast', '3_gender_cast',\n",
        "       'Acting_relevance_cast', 'popularity_cast_2', '2_gender_cast_2',\n",
        "       '1_gender_cast_2', '0_gender_cast_2', '3_gender_cast_2',\n",
        "       'Acting_relevance_cast_2', 'popularity_cast_3', '2_gender_cast_3',\n",
        "       '1_gender_cast_3', '0_gender_cast_3', '3_gender_cast_3',\n",
        "       'Acting_relevance_cast_3', 'popularity_cast_4', '2_gender_cast_4',\n",
        "       '1_gender_cast_4', '0_gender_cast_4', '3_gender_cast_4',\n",
        "       'Acting_relevance_cast_4', 'popularity_cast_5', '2_gender_cast_5',\n",
        "       '1_gender_cast_5', '0_gender_cast_5', '3_gender_cast_5',\n",
        "       'Acting_relevance_cast_5'])"
      ],
      "execution_count": 5,
      "outputs": [
        {
          "output_type": "stream",
          "name": "stderr",
          "text": [
            "/usr/local/lib/python3.7/dist-packages/ipykernel_launcher.py:15: RuntimeWarning: divide by zero encountered in double_scalars\n",
            "  from ipykernel import kernelapp as app\n",
            "/usr/local/lib/python3.7/dist-packages/ipykernel_launcher.py:15: RuntimeWarning: divide by zero encountered in double_scalars\n",
            "  from ipykernel import kernelapp as app\n",
            "/usr/local/lib/python3.7/dist-packages/ipykernel_launcher.py:15: RuntimeWarning: divide by zero encountered in double_scalars\n",
            "  from ipykernel import kernelapp as app\n",
            "/usr/local/lib/python3.7/dist-packages/ipykernel_launcher.py:15: RuntimeWarning: divide by zero encountered in double_scalars\n",
            "  from ipykernel import kernelapp as app\n",
            "/usr/local/lib/python3.7/dist-packages/ipykernel_launcher.py:15: RuntimeWarning: divide by zero encountered in double_scalars\n",
            "  from ipykernel import kernelapp as app\n",
            "/usr/local/lib/python3.7/dist-packages/ipykernel_launcher.py:15: RuntimeWarning: divide by zero encountered in double_scalars\n",
            "  from ipykernel import kernelapp as app\n",
            "/usr/local/lib/python3.7/dist-packages/ipykernel_launcher.py:15: RuntimeWarning: divide by zero encountered in double_scalars\n",
            "  from ipykernel import kernelapp as app\n",
            "/usr/local/lib/python3.7/dist-packages/ipykernel_launcher.py:15: RuntimeWarning: divide by zero encountered in double_scalars\n",
            "  from ipykernel import kernelapp as app\n",
            "/usr/local/lib/python3.7/dist-packages/ipykernel_launcher.py:15: RuntimeWarning: divide by zero encountered in double_scalars\n",
            "  from ipykernel import kernelapp as app\n",
            "/usr/local/lib/python3.7/dist-packages/ipykernel_launcher.py:15: RuntimeWarning: divide by zero encountered in double_scalars\n",
            "  from ipykernel import kernelapp as app\n",
            "/usr/local/lib/python3.7/dist-packages/ipykernel_launcher.py:15: RuntimeWarning: divide by zero encountered in double_scalars\n",
            "  from ipykernel import kernelapp as app\n",
            "/usr/local/lib/python3.7/dist-packages/ipykernel_launcher.py:15: RuntimeWarning: divide by zero encountered in double_scalars\n",
            "  from ipykernel import kernelapp as app\n",
            "/usr/local/lib/python3.7/dist-packages/ipykernel_launcher.py:15: RuntimeWarning: divide by zero encountered in double_scalars\n",
            "  from ipykernel import kernelapp as app\n",
            "/usr/local/lib/python3.7/dist-packages/ipykernel_launcher.py:15: RuntimeWarning: divide by zero encountered in double_scalars\n",
            "  from ipykernel import kernelapp as app\n",
            "/usr/local/lib/python3.7/dist-packages/ipykernel_launcher.py:15: RuntimeWarning: divide by zero encountered in double_scalars\n",
            "  from ipykernel import kernelapp as app\n",
            "/usr/local/lib/python3.7/dist-packages/ipykernel_launcher.py:15: RuntimeWarning: divide by zero encountered in double_scalars\n",
            "  from ipykernel import kernelapp as app\n",
            "/usr/local/lib/python3.7/dist-packages/ipykernel_launcher.py:15: RuntimeWarning: divide by zero encountered in double_scalars\n",
            "  from ipykernel import kernelapp as app\n",
            "/usr/local/lib/python3.7/dist-packages/ipykernel_launcher.py:15: RuntimeWarning: divide by zero encountered in double_scalars\n",
            "  from ipykernel import kernelapp as app\n",
            "/usr/local/lib/python3.7/dist-packages/ipykernel_launcher.py:15: RuntimeWarning: divide by zero encountered in double_scalars\n",
            "  from ipykernel import kernelapp as app\n",
            "/usr/local/lib/python3.7/dist-packages/ipykernel_launcher.py:15: RuntimeWarning: divide by zero encountered in double_scalars\n",
            "  from ipykernel import kernelapp as app\n",
            "/usr/local/lib/python3.7/dist-packages/ipykernel_launcher.py:15: RuntimeWarning: divide by zero encountered in double_scalars\n",
            "  from ipykernel import kernelapp as app\n",
            "/usr/local/lib/python3.7/dist-packages/ipykernel_launcher.py:15: RuntimeWarning: divide by zero encountered in double_scalars\n",
            "  from ipykernel import kernelapp as app\n",
            "/usr/local/lib/python3.7/dist-packages/ipykernel_launcher.py:15: RuntimeWarning: divide by zero encountered in double_scalars\n",
            "  from ipykernel import kernelapp as app\n",
            "/usr/local/lib/python3.7/dist-packages/ipykernel_launcher.py:15: RuntimeWarning: divide by zero encountered in double_scalars\n",
            "  from ipykernel import kernelapp as app\n",
            "/usr/local/lib/python3.7/dist-packages/ipykernel_launcher.py:15: RuntimeWarning: divide by zero encountered in double_scalars\n",
            "  from ipykernel import kernelapp as app\n",
            "/usr/local/lib/python3.7/dist-packages/ipykernel_launcher.py:15: RuntimeWarning: divide by zero encountered in double_scalars\n",
            "  from ipykernel import kernelapp as app\n",
            "/usr/local/lib/python3.7/dist-packages/ipykernel_launcher.py:15: RuntimeWarning: divide by zero encountered in double_scalars\n",
            "  from ipykernel import kernelapp as app\n",
            "/usr/local/lib/python3.7/dist-packages/ipykernel_launcher.py:15: RuntimeWarning: divide by zero encountered in double_scalars\n",
            "  from ipykernel import kernelapp as app\n",
            "/usr/local/lib/python3.7/dist-packages/ipykernel_launcher.py:15: RuntimeWarning: divide by zero encountered in double_scalars\n",
            "  from ipykernel import kernelapp as app\n"
          ]
        }
      ]
    },
    {
      "cell_type": "code",
      "metadata": {
        "id": "v7FhQF4LM_WH"
      },
      "source": [
        "Independent_features = Independent_features[['budget_main','Action_genre_main',\n",
        "       'Adventure_genre_main', 'Animation_genre_main', 'Comedy_genre_main',\n",
        "       'Crime_genre_main', 'Documentary_genre_main', 'Drama_genre_main',\n",
        "       'Family_genre_main', 'Fantasy_genre_main', 'History_genre_main',\n",
        "       'Horror_genre_main', 'Music_genre_main', 'Mystery_genre_main',\n",
        "       'Romance_genre_main', 'Science Fiction_genre_main',\n",
        "       'TV Movie_genre_main', 'Thriller_genre_main', 'War_genre_main',\n",
        "       'Western_genre_main', 'collection_popularity_coll_details','popularity_crew', 'popularity_crew_2', 'popularity_crew_3', 'popularity_cast', \n",
        "       'popularity_cast_2', 'popularity_cast_3', 'popularity_cast_4', 'popularity_cast_5']]"
      ],
      "execution_count": 6,
      "outputs": []
    },
    {
      "cell_type": "code",
      "metadata": {
        "id": "LGgARfrEM_Nl"
      },
      "source": [
        "#Scaling budget and revenue columns\n",
        "mms_budget = MinMaxScaler()\n",
        "mms_budget.fit(Independent_features['budget_main'].to_numpy().reshape(-1,1))\n",
        "Independent_features['budget_main'] = mms_budget.fit_transform(Independent_features['budget_main'].to_numpy().reshape(-1,1))\n",
        "\n",
        "mms_revenue = MinMaxScaler()\n",
        "mms_revenue.fit(Target.values.reshape(-1,1))\n",
        "Target = mms_revenue.fit_transform(Target.values.reshape(-1,1))"
      ],
      "execution_count": 7,
      "outputs": []
    },
    {
      "cell_type": "code",
      "metadata": {
        "id": "GKhHq0qUZdZn"
      },
      "source": [
        "#splitting the final data into train and test data \n",
        "xtrain, xtest, ytrain, ytest = train_test_split(Independent_features, Target, test_size=0.2)"
      ],
      "execution_count": 8,
      "outputs": []
    },
    {
      "cell_type": "code",
      "metadata": {
        "id": "dF7DS3_oZGvU"
      },
      "source": [
        "C_para = [0.1, 1, 50, 100, 500, 1000, 5000, 10000]\n",
        "#C_para = [0.001, 0.005, 0.01, 0.05, 0.08, 0.1]\n",
        "alpha_para = [1/(2*C) for C in C_para]\n",
        "model_list = [Lasso(alpha=alpha) for alpha in alpha_para]"
      ],
      "execution_count": 9,
      "outputs": []
    },
    {
      "cell_type": "code",
      "metadata": {
        "colab": {
          "base_uri": "https://localhost:8080/",
          "height": 295
        },
        "id": "x1SCRZtRY30T",
        "outputId": "a303da0d-2c0f-4406-9851-c2e49dfa9f30"
      },
      "source": [
        "#ploting the mean and standard daviation value for Lasso Regression\n",
        "mean_error_R2=[]; std_error_R2=[]; mean_error_RMSE=[]; std_error_RMSE=[]\n",
        "for model in model_list:\n",
        "  temp_R2=[];temp_RMSE = []\n",
        "  kf = KFold(n_splits=5)\n",
        "  for train, test in kf.split(xtrain):\n",
        "    model.fit(Independent_features.iloc[train], Target[train])\n",
        "    ypred = model.predict(Independent_features.iloc[test])\n",
        "    temp_RMSE.append(mean_squared_error(Target[test],ypred))\n",
        "    temp_R2.append(r2_score(Target[test],ypred))\n",
        "  mean_error_R2.append(np.array(temp_R2).mean())\n",
        "  std_error_R2.append(np.array(temp_R2).std())\n",
        "  mean_error_RMSE.append(np.array(temp_RMSE).mean())\n",
        "  std_error_RMSE.append(np.array(temp_RMSE).std())\n",
        "\n",
        "plt.errorbar(C_para,mean_error_R2,yerr=std_error_R2)\n",
        "plt.xlabel('Ci'); plt.ylabel('R2')\n",
        "plt.xlim((0.1,10000))\n",
        "plt.title('Cross Validation for Lasso')\n",
        "plt.show()"
      ],
      "execution_count": 18,
      "outputs": [
        {
          "output_type": "display_data",
          "data": {
            "image/png": "[encoded data removed]",
            "text/plain": [
              "<Figure size 432x288 with 1 Axes>"
            ]
          },
          "metadata": {
            "needs_background": "light"
          }
        }
      ]
    },
    {
      "cell_type": "code",
      "metadata": {
        "colab": {
          "base_uri": "https://localhost:8080/",
          "height": 295
        },
        "id": "1uY1LI_jqhKa",
        "outputId": "33693a1e-528b-4d4c-8b99-1208fb9843e6"
      },
      "source": [
        "#ploting the mean and standard daviation value for Ridge Regression RMSE\n",
        "plt.errorbar(C_para,mean_error_RMSE,yerr=std_error_RMSE)\n",
        "plt.xlabel('Ci'); plt.ylabel('RMSE')\n",
        "plt.xlim((0.1,10000))\n",
        "plt.title('Cross Validation for Lasso')\n",
        "plt.show()"
      ],
      "execution_count": 13,
      "outputs": [
        {
          "output_type": "display_data",
          "data": {
            "image/png": "[encoded data removed]",
            "text/plain": [
              "<Figure size 432x288 with 1 Axes>"
            ]
          },
          "metadata": {
            "needs_background": "light"
          }
        }
      ]
    },
    {
      "cell_type": "code",
      "metadata": {
        "colab": {
          "base_uri": "https://localhost:8080/"
        },
        "id": "TgUJRha_rBE2",
        "outputId": "b3708170-80b9-4a93-91bd-1abb30db274d"
      },
      "source": [
        "#Training Ridge model with optimal c value for predictions\n",
        "model = Lasso(alpha=1/(2*1000)).fit(xtrain,ytrain)\n",
        "print('Test R2 score: ' + str(r2_score(ytest,model.predict(xtest))))\n",
        "print('Test RMSE score: ' + str(mean_squared_error(ytest,model.predict(xtest),squared=False)))"
      ],
      "execution_count": 17,
      "outputs": [
        {
          "output_type": "stream",
          "name": "stdout",
          "text": [
            "Test R2 score: 0.5346175305576186\n",
            "Test RMSE score: 0.04321698966316304\n"
          ]
        }
      ]
    }
  ]
}