{
  "nbformat": 4,
  "nbformat_minor": 0,
  "metadata": {
    "colab": {
      "name": "modelLasso.ipynb",
      "provenance": [],
      "collapsed_sections": [],
      "authorship_tag": "ABX9TyOvk9BTQJIM4QfJvg+FDOmh",
      "include_colab_link": true
    },
    "kernelspec": {
      "name": "python3",
      "display_name": "Python 3"
    },
    "language_info": {
      "name": "python"
    }
  },
  "cells": [
    {
      "cell_type": "markdown",
      "metadata": {
        "id": "view-in-github",
        "colab_type": "text"
      },
      "source": [
        "<a href=\"https://colab.research.google.com/github/anurvish/Scalable_Data/blob/main/modelLasso.ipynb\" target=\"_parent\"><img src=\"https://colab.research.google.com/assets/colab-badge.svg\" alt=\"Open In Colab\"/></a>"
      ]
    },
    {
      "cell_type": "code",
      "metadata": {
        "id": "wiYkvZSUMlG-",
        "colab": {
          "base_uri": "https://localhost:8080/"
        },
        "outputId": "15cf9524-3b8e-480d-e0d2-20585fd16b5d"
      },
      "source": [
        "from google.colab import drive\n",
        "drive.mount('/content/drive')"
      ],
      "execution_count": 25,
      "outputs": [
        {
          "output_type": "stream",
          "name": "stdout",
          "text": [
            "Drive already mounted at /content/drive; to attempt to forcibly remount, call drive.mount(\"/content/drive\", force_remount=True).\n"
          ]
        }
      ]
    },
    {
      "cell_type": "code",
      "metadata": {
        "id": "tK1j8K_MNoUz"
      },
      "source": [
        "import pandas as pd\n",
        "import numpy as np\n",
        "df = pd.read_csv(\"/content/drive/MyDrive/ML/GroupProject/final_data.csv\", )\n",
        "df.head()\n",
        "df = df.replace(np.NaN, 0)"
      ],
      "execution_count": 26,
      "outputs": []
    },
    {
      "cell_type": "code",
      "metadata": {
        "id": "BNHjWktnWp_g"
      },
      "source": [
        "X = df.iloc[:, 2:]\n",
        "y = df.iloc[:, 1]"
      ],
      "execution_count": 27,
      "outputs": []
    },
    {
      "cell_type": "code",
      "metadata": {
        "id": "GKhHq0qUZdZn"
      },
      "source": [
        "from sklearn.model_selection import train_test_split\n",
        "xtrain, xtest, ytrain, ytest = train_test_split(X, y, test_size=0.2)"
      ],
      "execution_count": 28,
      "outputs": []
    },
    {
      "cell_type": "code",
      "metadata": {
        "id": "dF7DS3_oZGvU"
      },
      "source": [
        "from sklearn.linear_model import Lasso\n",
        "from sklearn.metrics import mean_squared_error, mean_absolute_error\n",
        "import statsmodels.api as sm\n",
        "import math\n",
        "C_para = [0.1, 1, 50, 100, 500, 1000]\n",
        "alpha_para = [1/(2*C) for C in C_para]"
      ],
      "execution_count": 29,
      "outputs": []
    },
    {
      "cell_type": "code",
      "metadata": {
        "id": "-u0SYvpGaTkv",
        "colab": {
          "base_uri": "https://localhost:8080/"
        },
        "outputId": "f001f46b-df15-4ecd-b0b4-788bb603321c"
      },
      "source": [
        "#Performing Lesso regression on data\n",
        "model_list = [Lasso(alpha=alpha) for alpha in alpha_para]\n",
        "testPred_df = pd.DataFrame()\n",
        "trainPred_df = pd.DataFrame()\n",
        "\n",
        "for i,model in enumerate(model_list):\n",
        "    model.fit(xtrain,ytrain)\n",
        "    predCol = f'model_{i+1}'\n",
        "    testPred_df[predCol] = model.predict(xtest)\n",
        "    trainPred_df[predCol] = model.predict(xtrain) \n",
        "    xtest_addC = sm.add_constant(xtest)\n",
        "    result_test = sm.OLS(ytest, xtest_addC.astype(float)).fit()\n",
        "    xtrain_addC = sm.add_constant(xtrain)\n",
        "    result_train = sm.OLS(ytrain, xtrain_addC.astype(float)).fit()\n",
        "    print(f'Model being processed {i}')\n",
        "    print(f'Coefficient: {model.coef_}')\n",
        "    print(f'Intercept: {model.intercept_}')\n",
        "    print(f'Test R_Square: {result_test.rsquared} & Adjusted R Square {result_test.rsquared_adj}')\n",
        "    print(f'Train R_Square: {result_train.rsquared} & Adjusted R Square {result_train.rsquared_adj}')\n",
        "    print(f'Test Mean squared error: {mean_squared_error(ytest, testPred_df[predCol])} & Mean Absulute error: {mean_absolute_error(ytest, testPred_df[predCol])}')\n",
        "    print(f'Train Mean squared error: {mean_squared_error(ytrain, trainPred_df[predCol])} &  Mean Absulute error: {mean_absolute_error(ytrain, trainPred_df[predCol])}')\n",
        "    #RMSC\n",
        "    MSE_test = np.square(np.subtract(ytest,testPred_df[predCol])).mean()\n",
        "    MSE_train = np.square(np.subtract(ytrain,trainPred_df[predCol])).mean()\n",
        "    print(f'Test RMSC :{MSE_test}')\n",
        "    print(f'Train RMSC: {MSE_train}')\n",
        "    print('\\n\\n')"
      ],
      "execution_count": 30,
      "outputs": [
        {
          "output_type": "stream",
          "name": "stderr",
          "text": [
            "/usr/local/lib/python3.7/dist-packages/sklearn/linear_model/_coordinate_descent.py:648: ConvergenceWarning: Objective did not converge. You might want to increase the number of iterations, check the scale of the features or consider increasing regularisation. Duality gap: 7.863e+18, tolerance: 1.672e+16\n",
            "  coef_, l1_reg, l2_reg, X, y, max_iter, tol, rng, random, positive\n"
          ]
        },
        {
          "output_type": "stream",
          "name": "stdout",
          "text": [
            "Model being processed 0\n",
            "Coefficient: [ 6.44150213e+07  2.73477124e+00  9.73569464e+00  5.35184140e+05\n",
            " -5.22882892e+06  1.77166455e+07  2.43823151e+07 -5.18552637e+06\n",
            " -1.75462461e+07 -1.49552368e+06 -9.05764586e+06 -2.51636741e+07\n",
            " -9.44707420e+06 -3.46725675e+07  8.54829236e+06  2.95382534e+06\n",
            " -6.43052103e+06  4.01866828e+06 -3.64532395e+06  9.15817285e+06\n",
            " -1.31212611e+07 -2.61766253e+07 -2.59326247e+07  1.42989617e+06\n",
            "  2.39377358e+06 -6.68372460e+06 -6.79260124e+06 -3.99101348e+05\n",
            "  0.00000000e+00 -1.90577701e+05  3.59494509e+07 -3.44994360e+07\n",
            "  1.28096497e+07 -2.00320532e+07  0.00000000e+00 -1.38145703e+05\n",
            " -2.76982209e+07 -1.12221767e+08 -1.08375060e+07  7.11043787e+06\n",
            "  0.00000000e+00 -0.00000000e+00 -1.15296650e+04  2.82324861e+06\n",
            " -1.18170431e+06  9.79199591e+06 -3.81415452e+06 -9.72320237e+04\n",
            "  2.30353749e+05  2.64362864e+06 -2.18409600e+05  4.46293635e+06\n",
            " -5.64400910e+07  7.06410103e+05  5.08196164e+05 -3.27322605e+06\n",
            " -2.46866856e+06  2.69562457e+06  2.38323810e+07 -1.46998710e+07\n",
            "  1.56478198e+06 -5.50520366e+06  9.88878084e+05 -2.83720623e+06\n",
            "  5.03083090e+07  3.62423648e+06 -6.73801625e+05 -7.92585624e+06\n",
            " -1.38811390e+06  1.37719125e+06  5.82459182e+05 -0.00000000e+00]\n",
            "Intercept: -39029512.48637298\n",
            "Test R_Square: 0.5912564612697773 & Adjusted R Square 0.5759184877953714\n",
            "Train R_Square: 0.5891472156971485 & Adjusted R Square 0.5851321532424105\n",
            "Test Mean squared error: 1.0991127566448198e+16 & Mean Absulute error: 53321454.678329855\n",
            "Train Mean squared error: 1.0899196502438112e+16 &  Mean Absulute error: 53598094.284779005\n",
            "Test RMSC :4.842287513675512e+16\n",
            "Train RMSC: 4.8858860478726264e+16\n",
            "\n",
            "\n",
            "\n"
          ]
        },
        {
          "output_type": "stream",
          "name": "stderr",
          "text": [
            "/usr/local/lib/python3.7/dist-packages/sklearn/linear_model/_coordinate_descent.py:648: ConvergenceWarning: Objective did not converge. You might want to increase the number of iterations, check the scale of the features or consider increasing regularisation. Duality gap: 1.857e+19, tolerance: 1.672e+16\n",
            "  coef_, l1_reg, l2_reg, X, y, max_iter, tol, rng, random, positive\n"
          ]
        },
        {
          "output_type": "stream",
          "name": "stdout",
          "text": [
            "Model being processed 1\n",
            "Coefficient: [ 6.44210180e+07  2.73477121e+00  9.73574713e+00  5.35184776e+05\n",
            " -5.22886103e+06  1.77166905e+07  2.43826220e+07 -5.18560307e+06\n",
            " -1.75463065e+07 -1.49578688e+06 -9.05769952e+06 -2.51637964e+07\n",
            " -9.44719656e+06 -3.46726865e+07  8.54829525e+06  2.95393064e+06\n",
            " -6.43065434e+06  4.01866317e+06 -3.64547254e+06  9.16086313e+06\n",
            " -1.31212837e+07 -2.61768186e+07 -2.59328526e+07  1.42989572e+06\n",
            "  2.39377439e+06 -6.71906991e+06 -6.82784122e+06 -4.34337659e+05\n",
            "  0.00000000e+00 -1.55380095e+05  3.59498486e+07 -3.45005000e+07\n",
            "  1.28115177e+07 -2.00327657e+07  0.00000000e+00 -1.38149746e+05\n",
            " -2.76990109e+07 -1.12228545e+08 -1.08523137e+07  7.11251125e+06\n",
            "  0.00000000e+00 -4.82285170e-06 -1.15275355e+04  2.84005900e+06\n",
            " -1.16489705e+06  9.80919684e+06 -3.80300545e+06 -1.14551457e+05\n",
            "  2.30353573e+05  2.62675939e+06 -2.35308999e+05  4.44591497e+06\n",
            " -5.64604370e+07  7.23616752e+05  5.08193825e+05 -3.25637309e+06\n",
            " -2.45179848e+06  2.71278542e+06  2.38546609e+07 -1.47171184e+07\n",
            "  1.56477951e+06 -5.52216856e+06  9.71933128e+05 -2.85451600e+06\n",
            "  5.02945280e+07  3.64158270e+06 -6.73787600e+05 -7.92618293e+06\n",
            " -1.38862533e+06  1.37749833e+06  6.10994625e+05 -0.00000000e+00]\n",
            "Intercept: -39029229.41921988\n",
            "Test R_Square: 0.5912564612697773 & Adjusted R Square 0.5759184877953714\n",
            "Train R_Square: 0.5891472156971485 & Adjusted R Square 0.5851321532424105\n",
            "Test Mean squared error: 1.0991131723530798e+16 & Mean Absulute error: 53321497.66457994\n",
            "Train Mean squared error: 1.0899196501947024e+16 &  Mean Absulute error: 53598122.94643042\n",
            "Test RMSC :4.842290138020627e+16\n",
            "Train RMSC: 4.885886831045026e+16\n",
            "\n",
            "\n",
            "\n"
          ]
        },
        {
          "output_type": "stream",
          "name": "stderr",
          "text": [
            "/usr/local/lib/python3.7/dist-packages/sklearn/linear_model/_coordinate_descent.py:648: ConvergenceWarning: Objective did not converge. You might want to increase the number of iterations, check the scale of the features or consider increasing regularisation. Duality gap: 3.380e+19, tolerance: 1.672e+16\n",
            "  coef_, l1_reg, l2_reg, X, y, max_iter, tol, rng, random, positive\n"
          ]
        },
        {
          "output_type": "stream",
          "name": "stdout",
          "text": [
            "Model being processed 2\n",
            "Coefficient: [ 6.44216708e+07  2.73477121e+00  9.73575293e+00  5.35184845e+05\n",
            " -5.22886452e+06  1.77166954e+07  2.43826556e+07 -5.18561143e+06\n",
            " -1.75463131e+07 -1.49581545e+06 -9.05770537e+06 -2.51638097e+07\n",
            " -9.44720990e+06 -3.46726995e+07  8.54829557e+06  2.95394214e+06\n",
            " -6.43066887e+06  4.01866261e+06 -3.64548869e+06  9.16115607e+06\n",
            " -1.31212861e+07 -2.61768396e+07 -2.59328775e+07  1.42989567e+06\n",
            "  2.39377448e+06 -6.72291868e+06 -6.83167854e+06 -4.38174514e+05\n",
            "  0.00000000e+00 -1.51547470e+05  3.59498914e+07 -3.45006154e+07\n",
            "  1.28117225e+07 -2.00328421e+07  0.00000000e+00 -1.38150178e+05\n",
            " -2.76990935e+07 -1.12230242e+08 -1.08548851e+07  7.11177591e+06\n",
            "  0.00000000e+00  9.51949651e+02 -1.15273047e+04  2.84188948e+06\n",
            " -1.16306693e+06  9.81106978e+06 -3.80179149e+06 -1.16437479e+05\n",
            "  2.30353555e+05  2.62492250e+06 -2.37149166e+05  4.44406160e+06\n",
            " -5.64626524e+07  7.25490383e+05  5.08193570e+05 -3.25453798e+06\n",
            " -2.44996152e+06  2.71465402e+06  2.38570869e+07 -1.47189966e+07\n",
            "  1.56477924e+06 -5.52401585e+06  9.70088011e+05 -2.85640083e+06\n",
            "  5.02930274e+07  3.64347153e+06 -6.73786053e+05 -7.92926989e+06\n",
            " -1.39173236e+06  1.37448061e+06  6.11050478e+05  3.05100482e+03]\n",
            "Intercept: -39029198.414024696\n",
            "Test R_Square: 0.5912564612697773 & Adjusted R Square 0.5759184877953714\n",
            "Train R_Square: 0.5891472156971485 & Adjusted R Square 0.5851321532424105\n",
            "Test Mean squared error: 1.0991132176473592e+16 & Mean Absulute error: 53321502.34631267\n",
            "Train Mean squared error: 1.0899196501942066e+16 &  Mean Absulute error: 53598126.07432525\n",
            "Test RMSC :4.842290423898144e+16\n",
            "Train RMSC: 4.88588691611459e+16\n",
            "\n",
            "\n",
            "\n"
          ]
        },
        {
          "output_type": "stream",
          "name": "stderr",
          "text": [
            "/usr/local/lib/python3.7/dist-packages/sklearn/linear_model/_coordinate_descent.py:648: ConvergenceWarning: Objective did not converge. You might want to increase the number of iterations, check the scale of the features or consider increasing regularisation. Duality gap: 3.394e+19, tolerance: 1.672e+16\n",
            "  coef_, l1_reg, l2_reg, X, y, max_iter, tol, rng, random, positive\n"
          ]
        },
        {
          "output_type": "stream",
          "name": "stdout",
          "text": [
            "Model being processed 3\n",
            "Coefficient: [ 6.44216776e+07  2.73477121e+00  9.73575294e+00  5.35184846e+05\n",
            " -5.22886456e+06  1.77166955e+07  2.43826559e+07 -5.18561151e+06\n",
            " -1.75463132e+07 -1.49581579e+06 -9.05770543e+06 -2.51638099e+07\n",
            " -9.44721003e+06 -3.46726996e+07  8.54829557e+06  2.95394224e+06\n",
            " -6.43066901e+06  4.01866260e+06 -3.64548887e+06  9.16115906e+06\n",
            " -1.31212861e+07 -2.61768399e+07 -2.59328777e+07  1.42989567e+06\n",
            "  2.39377448e+06 -6.72295792e+06 -6.83171766e+06 -4.38213659e+05\n",
            "  0.00000000e+00 -1.51508360e+05  3.59498921e+07 -3.45006168e+07\n",
            "  1.28117239e+07 -2.00328435e+07  0.00000000e+00 -1.38150187e+05\n",
            " -2.76990961e+07 -1.12232288e+08 -1.08569400e+07  7.10974085e+06\n",
            "  0.00000000e+00  2.99389317e+03 -1.15273018e+04  2.84190815e+06\n",
            " -1.16304826e+06  9.81108891e+06 -3.80177908e+06 -1.16456659e+05\n",
            "  2.30353554e+05  2.62490377e+06 -2.37167938e+05  4.44404265e+06\n",
            " -5.64626750e+07  7.25509492e+05  5.08193568e+05 -3.25451926e+06\n",
            " -2.44994277e+06  2.71467310e+06  2.38571117e+07 -1.47190157e+07\n",
            "  1.56477923e+06 -5.52403470e+06  9.70069183e+05 -2.85642007e+06\n",
            "  5.02930121e+07  3.64349080e+06 -6.73786047e+05 -7.92938885e+06\n",
            " -1.39185155e+06  1.37436223e+06  6.10963559e+05  3.16979771e+03]\n",
            "Intercept: -39029198.1906694\n",
            "Test R_Square: 0.5912564612697773 & Adjusted R Square 0.5759184877953714\n",
            "Train R_Square: 0.5891472156971485 & Adjusted R Square 0.5851321532424105\n",
            "Test Mean squared error: 1.0991132180962452e+16 & Mean Absulute error: 53321502.39357131\n",
            "Train Mean squared error: 1.0899196501942064e+16 &  Mean Absulute error: 53598126.102691785\n",
            "Test RMSC :4.8422904267578264e+16\n",
            "Train RMSC: 4.88588691709218e+16\n",
            "\n",
            "\n",
            "\n"
          ]
        },
        {
          "output_type": "stream",
          "name": "stderr",
          "text": [
            "/usr/local/lib/python3.7/dist-packages/sklearn/linear_model/_coordinate_descent.py:648: ConvergenceWarning: Objective did not converge. You might want to increase the number of iterations, check the scale of the features or consider increasing regularisation. Duality gap: 3.430e+19, tolerance: 1.672e+16\n",
            "  coef_, l1_reg, l2_reg, X, y, max_iter, tol, rng, random, positive\n"
          ]
        },
        {
          "output_type": "stream",
          "name": "stdout",
          "text": [
            "Model being processed 4\n",
            "Coefficient: [ 6.44216830e+07  2.73477121e+00  9.73575295e+00  5.35184846e+05\n",
            " -5.22886459e+06  1.77166955e+07  2.43826561e+07 -5.18561157e+06\n",
            " -1.75463132e+07 -1.49581606e+06 -9.05770548e+06 -2.51638100e+07\n",
            " -9.44721013e+06 -3.46726997e+07  8.54829557e+06  2.95394232e+06\n",
            " -6.43066912e+06  4.01866260e+06 -3.64548901e+06  9.16116146e+06\n",
            " -1.31212862e+07 -2.61768401e+07 -2.59328779e+07  1.42989567e+06\n",
            "  2.39377448e+06 -6.72298932e+06 -6.83174895e+06 -4.38244975e+05\n",
            "  0.00000000e+00 -1.51477072e+05  3.59498927e+07 -3.45006180e+07\n",
            "  1.28117250e+07 -2.00328445e+07  0.00000000e+00 -1.38150194e+05\n",
            " -2.76990981e+07 -1.12233925e+08 -1.08585839e+07  7.10811280e+06\n",
            "  0.00000000e+00  4.62744798e+03 -1.15272994e+04  2.84192308e+06\n",
            " -1.16303332e+06  9.81110422e+06 -3.80176915e+06 -1.16472002e+05\n",
            "  2.30353554e+05  2.62488878e+06 -2.37182955e+05  4.44402749e+06\n",
            " -5.64626931e+07  7.25524780e+05  5.08193566e+05 -3.25450428e+06\n",
            " -2.44992777e+06  2.71468837e+06  2.38571315e+07 -1.47190310e+07\n",
            "  1.56477923e+06 -5.52404977e+06  9.70054121e+05 -2.85643546e+06\n",
            "  5.02929999e+07  3.64350621e+06 -6.73786043e+05 -7.92948402e+06\n",
            " -1.39194691e+06  1.37426753e+06  6.10894023e+05  3.26483203e+03]\n",
            "Intercept: -39029198.011984885\n",
            "Test R_Square: 0.5912564612697773 & Adjusted R Square 0.5759184877953714\n",
            "Train R_Square: 0.5891472156971485 & Adjusted R Square 0.5851321532424105\n",
            "Test Mean squared error: 1.099113218455354e+16 & Mean Absulute error: 53321502.43137821\n",
            "Train Mean squared error: 1.0899196501942064e+16 &  Mean Absulute error: 53598126.12538502\n",
            "Test RMSC :4.842290429045579e+16\n",
            "Train RMSC: 4.885886917874216e+16\n",
            "\n",
            "\n",
            "\n",
            "Model being processed 5\n",
            "Coefficient: [ 6.44216836e+07  2.73477121e+00  9.73575296e+00  5.35184846e+05\n",
            " -5.22886460e+06  1.77166955e+07  2.43826561e+07 -5.18561158e+06\n",
            " -1.75463132e+07 -1.49581609e+06 -9.05770548e+06 -2.51638100e+07\n",
            " -9.44721014e+06 -3.46726997e+07  8.54829557e+06  2.95394233e+06\n",
            " -6.43066914e+06  4.01866260e+06 -3.64548903e+06  9.16116176e+06\n",
            " -1.31212862e+07 -2.61768401e+07 -2.59328779e+07  1.42989567e+06\n",
            "  2.39377448e+06 -6.72299324e+06 -6.83175286e+06 -4.38248890e+05\n",
            "  0.00000000e+00 -1.51473161e+05  3.59498928e+07 -3.45006181e+07\n",
            "  1.28117251e+07 -2.00328447e+07  0.00000000e+00 -1.38150195e+05\n",
            " -2.76990984e+07 -1.12234130e+08 -1.08587894e+07  7.10790930e+06\n",
            "  0.00000000e+00  4.83164234e+03 -1.15272991e+04  2.84192495e+06\n",
            " -1.16303145e+06  9.81110614e+06 -3.80176791e+06 -1.16473920e+05\n",
            "  2.30353554e+05  2.62488690e+06 -2.37184833e+05  4.44402560e+06\n",
            " -5.64626954e+07  7.25526690e+05  5.08193566e+05 -3.25450241e+06\n",
            " -2.44992590e+06  2.71469028e+06  2.38571339e+07 -1.47190329e+07\n",
            "  1.56477923e+06 -5.52405166e+06  9.70052238e+05 -2.85643739e+06\n",
            "  5.02929984e+07  3.64350813e+06 -6.73786042e+05 -7.92949592e+06\n",
            " -1.39195883e+06  1.37425569e+06  6.10885331e+05  3.27671132e+03]\n",
            "Intercept: -39029197.989649504\n",
            "Test R_Square: 0.5912564612697773 & Adjusted R Square 0.5759184877953714\n",
            "Train R_Square: 0.5891472156971485 & Adjusted R Square 0.5851321532424105\n",
            "Test Mean squared error: 1.0991132185002422e+16 & Mean Absulute error: 53321502.43610409\n",
            "Train Mean squared error: 1.0899196501942062e+16 &  Mean Absulute error: 53598126.12822171\n",
            "Test RMSC :4.842290429331546e+16\n",
            "Train RMSC: 4.885886917971982e+16\n",
            "\n",
            "\n",
            "\n"
          ]
        },
        {
          "output_type": "stream",
          "name": "stderr",
          "text": [
            "/usr/local/lib/python3.7/dist-packages/sklearn/linear_model/_coordinate_descent.py:648: ConvergenceWarning: Objective did not converge. You might want to increase the number of iterations, check the scale of the features or consider increasing regularisation. Duality gap: 3.433e+19, tolerance: 1.672e+16\n",
            "  coef_, l1_reg, l2_reg, X, y, max_iter, tol, rng, random, positive\n"
          ]
        }
      ]
    },
    {
      "cell_type": "code",
      "metadata": {
        "colab": {
          "base_uri": "https://localhost:8080/"
        },
        "id": "rEJIEhKSxGNW",
        "outputId": "ab17f067-ef78-474b-a93f-44697d5e22d2"
      },
      "source": [
        "from sklearn.model_selection import  cross_val_score\n",
        "#ploting the mean and standard daviation value for Lasso Regression\n",
        "LassoKfold = {\n",
        "'Score':[],\n",
        "'StandardDeviation':[],\n",
        "}\n",
        "for i, model in enumerate(model_list):\n",
        "    score = cross_val_score(model, xtrain, ytrain, cv=5, scoring=\"neg_mean_squared_error\")\n",
        "    LassoKfold['Score'].append(score.mean())\n",
        "    LassoKfold['StandardDeviation'].append(score.std())\n",
        "    print(f'For model_{i+1}  mean score is {score.mean()} and standard deviation is {score.std()}')\n",
        "\n",
        "print(LassoKfold)\n",
        "LassoKfold=pd.DataFrame(LassoKfold)"
      ],
      "execution_count": 31,
      "outputs": [
        {
          "output_type": "stream",
          "name": "stderr",
          "text": [
            "/usr/local/lib/python3.7/dist-packages/sklearn/linear_model/_coordinate_descent.py:648: ConvergenceWarning: Objective did not converge. You might want to increase the number of iterations, check the scale of the features or consider increasing regularisation. Duality gap: 6.212e+18, tolerance: 1.340e+16\n",
            "  coef_, l1_reg, l2_reg, X, y, max_iter, tol, rng, random, positive\n",
            "/usr/local/lib/python3.7/dist-packages/sklearn/linear_model/_coordinate_descent.py:648: ConvergenceWarning: Objective did not converge. You might want to increase the number of iterations, check the scale of the features or consider increasing regularisation. Duality gap: 6.384e+18, tolerance: 1.308e+16\n",
            "  coef_, l1_reg, l2_reg, X, y, max_iter, tol, rng, random, positive\n",
            "/usr/local/lib/python3.7/dist-packages/sklearn/linear_model/_coordinate_descent.py:648: ConvergenceWarning: Objective did not converge. You might want to increase the number of iterations, check the scale of the features or consider increasing regularisation. Duality gap: 6.616e+18, tolerance: 1.407e+16\n",
            "  coef_, l1_reg, l2_reg, X, y, max_iter, tol, rng, random, positive\n",
            "/usr/local/lib/python3.7/dist-packages/sklearn/linear_model/_coordinate_descent.py:648: ConvergenceWarning: Objective did not converge. You might want to increase the number of iterations, check the scale of the features or consider increasing regularisation. Duality gap: 9.778e+18, tolerance: 1.358e+16\n",
            "  coef_, l1_reg, l2_reg, X, y, max_iter, tol, rng, random, positive\n",
            "/usr/local/lib/python3.7/dist-packages/sklearn/linear_model/_coordinate_descent.py:648: ConvergenceWarning: Objective did not converge. You might want to increase the number of iterations, check the scale of the features or consider increasing regularisation. Duality gap: 5.815e+18, tolerance: 1.277e+16\n",
            "  coef_, l1_reg, l2_reg, X, y, max_iter, tol, rng, random, positive\n"
          ]
        },
        {
          "output_type": "stream",
          "name": "stdout",
          "text": [
            "For model_1  mean score is -1.1375661981699176e+16 and standard deviation is 1580937804402091.0\n"
          ]
        },
        {
          "output_type": "stream",
          "name": "stderr",
          "text": [
            "/usr/local/lib/python3.7/dist-packages/sklearn/linear_model/_coordinate_descent.py:648: ConvergenceWarning: Objective did not converge. You might want to increase the number of iterations, check the scale of the features or consider increasing regularisation. Duality gap: 8.907e+18, tolerance: 1.340e+16\n",
            "  coef_, l1_reg, l2_reg, X, y, max_iter, tol, rng, random, positive\n",
            "/usr/local/lib/python3.7/dist-packages/sklearn/linear_model/_coordinate_descent.py:648: ConvergenceWarning: Objective did not converge. You might want to increase the number of iterations, check the scale of the features or consider increasing regularisation. Duality gap: 1.450e+19, tolerance: 1.308e+16\n",
            "  coef_, l1_reg, l2_reg, X, y, max_iter, tol, rng, random, positive\n",
            "/usr/local/lib/python3.7/dist-packages/sklearn/linear_model/_coordinate_descent.py:648: ConvergenceWarning: Objective did not converge. You might want to increase the number of iterations, check the scale of the features or consider increasing regularisation. Duality gap: 6.616e+18, tolerance: 1.407e+16\n",
            "  coef_, l1_reg, l2_reg, X, y, max_iter, tol, rng, random, positive\n",
            "/usr/local/lib/python3.7/dist-packages/sklearn/linear_model/_coordinate_descent.py:648: ConvergenceWarning: Objective did not converge. You might want to increase the number of iterations, check the scale of the features or consider increasing regularisation. Duality gap: 9.778e+18, tolerance: 1.358e+16\n",
            "  coef_, l1_reg, l2_reg, X, y, max_iter, tol, rng, random, positive\n",
            "/usr/local/lib/python3.7/dist-packages/sklearn/linear_model/_coordinate_descent.py:648: ConvergenceWarning: Objective did not converge. You might want to increase the number of iterations, check the scale of the features or consider increasing regularisation. Duality gap: 5.815e+18, tolerance: 1.277e+16\n",
            "  coef_, l1_reg, l2_reg, X, y, max_iter, tol, rng, random, positive\n"
          ]
        },
        {
          "output_type": "stream",
          "name": "stdout",
          "text": [
            "For model_2  mean score is -1.1375673212364588e+16 and standard deviation is 1580935645267623.8\n"
          ]
        },
        {
          "output_type": "stream",
          "name": "stderr",
          "text": [
            "/usr/local/lib/python3.7/dist-packages/sklearn/linear_model/_coordinate_descent.py:648: ConvergenceWarning: Objective did not converge. You might want to increase the number of iterations, check the scale of the features or consider increasing regularisation. Duality gap: 2.243e+19, tolerance: 1.340e+16\n",
            "  coef_, l1_reg, l2_reg, X, y, max_iter, tol, rng, random, positive\n",
            "/usr/local/lib/python3.7/dist-packages/sklearn/linear_model/_coordinate_descent.py:648: ConvergenceWarning: Objective did not converge. You might want to increase the number of iterations, check the scale of the features or consider increasing regularisation. Duality gap: 2.705e+19, tolerance: 1.308e+16\n",
            "  coef_, l1_reg, l2_reg, X, y, max_iter, tol, rng, random, positive\n",
            "/usr/local/lib/python3.7/dist-packages/sklearn/linear_model/_coordinate_descent.py:648: ConvergenceWarning: Objective did not converge. You might want to increase the number of iterations, check the scale of the features or consider increasing regularisation. Duality gap: 2.770e+19, tolerance: 1.407e+16\n",
            "  coef_, l1_reg, l2_reg, X, y, max_iter, tol, rng, random, positive\n",
            "/usr/local/lib/python3.7/dist-packages/sklearn/linear_model/_coordinate_descent.py:648: ConvergenceWarning: Objective did not converge. You might want to increase the number of iterations, check the scale of the features or consider increasing regularisation. Duality gap: 2.786e+19, tolerance: 1.358e+16\n",
            "  coef_, l1_reg, l2_reg, X, y, max_iter, tol, rng, random, positive\n",
            "/usr/local/lib/python3.7/dist-packages/sklearn/linear_model/_coordinate_descent.py:648: ConvergenceWarning: Objective did not converge. You might want to increase the number of iterations, check the scale of the features or consider increasing regularisation. Duality gap: 2.503e+19, tolerance: 1.277e+16\n",
            "  coef_, l1_reg, l2_reg, X, y, max_iter, tol, rng, random, positive\n"
          ]
        },
        {
          "output_type": "stream",
          "name": "stdout",
          "text": [
            "For model_3  mean score is -1.1375674441625148e+16 and standard deviation is 1580935380514426.2\n"
          ]
        },
        {
          "output_type": "stream",
          "name": "stderr",
          "text": [
            "/usr/local/lib/python3.7/dist-packages/sklearn/linear_model/_coordinate_descent.py:648: ConvergenceWarning: Objective did not converge. You might want to increase the number of iterations, check the scale of the features or consider increasing regularisation. Duality gap: 2.635e+19, tolerance: 1.340e+16\n",
            "  coef_, l1_reg, l2_reg, X, y, max_iter, tol, rng, random, positive\n",
            "/usr/local/lib/python3.7/dist-packages/sklearn/linear_model/_coordinate_descent.py:648: ConvergenceWarning: Objective did not converge. You might want to increase the number of iterations, check the scale of the features or consider increasing regularisation. Duality gap: 2.617e+19, tolerance: 1.308e+16\n",
            "  coef_, l1_reg, l2_reg, X, y, max_iter, tol, rng, random, positive\n",
            "/usr/local/lib/python3.7/dist-packages/sklearn/linear_model/_coordinate_descent.py:648: ConvergenceWarning: Objective did not converge. You might want to increase the number of iterations, check the scale of the features or consider increasing regularisation. Duality gap: 2.819e+19, tolerance: 1.407e+16\n",
            "  coef_, l1_reg, l2_reg, X, y, max_iter, tol, rng, random, positive\n",
            "/usr/local/lib/python3.7/dist-packages/sklearn/linear_model/_coordinate_descent.py:648: ConvergenceWarning: Objective did not converge. You might want to increase the number of iterations, check the scale of the features or consider increasing regularisation. Duality gap: 2.698e+19, tolerance: 1.358e+16\n",
            "  coef_, l1_reg, l2_reg, X, y, max_iter, tol, rng, random, positive\n",
            "/usr/local/lib/python3.7/dist-packages/sklearn/linear_model/_coordinate_descent.py:648: ConvergenceWarning: Objective did not converge. You might want to increase the number of iterations, check the scale of the features or consider increasing regularisation. Duality gap: 2.553e+19, tolerance: 1.277e+16\n",
            "  coef_, l1_reg, l2_reg, X, y, max_iter, tol, rng, random, positive\n"
          ]
        },
        {
          "output_type": "stream",
          "name": "stdout",
          "text": [
            "For model_4  mean score is -1.137567445187992e+16 and standard deviation is 1580935373614243.0\n"
          ]
        },
        {
          "output_type": "stream",
          "name": "stderr",
          "text": [
            "/usr/local/lib/python3.7/dist-packages/sklearn/linear_model/_coordinate_descent.py:648: ConvergenceWarning: Objective did not converge. You might want to increase the number of iterations, check the scale of the features or consider increasing regularisation. Duality gap: 2.702e+19, tolerance: 1.340e+16\n",
            "  coef_, l1_reg, l2_reg, X, y, max_iter, tol, rng, random, positive\n",
            "/usr/local/lib/python3.7/dist-packages/sklearn/linear_model/_coordinate_descent.py:648: ConvergenceWarning: Objective did not converge. You might want to increase the number of iterations, check the scale of the features or consider increasing regularisation. Duality gap: 2.739e+19, tolerance: 1.308e+16\n",
            "  coef_, l1_reg, l2_reg, X, y, max_iter, tol, rng, random, positive\n",
            "/usr/local/lib/python3.7/dist-packages/sklearn/linear_model/_coordinate_descent.py:648: ConvergenceWarning: Objective did not converge. You might want to increase the number of iterations, check the scale of the features or consider increasing regularisation. Duality gap: 2.843e+19, tolerance: 1.407e+16\n",
            "  coef_, l1_reg, l2_reg, X, y, max_iter, tol, rng, random, positive\n",
            "/usr/local/lib/python3.7/dist-packages/sklearn/linear_model/_coordinate_descent.py:648: ConvergenceWarning: Objective did not converge. You might want to increase the number of iterations, check the scale of the features or consider increasing regularisation. Duality gap: 2.801e+19, tolerance: 1.358e+16\n",
            "  coef_, l1_reg, l2_reg, X, y, max_iter, tol, rng, random, positive\n",
            "/usr/local/lib/python3.7/dist-packages/sklearn/linear_model/_coordinate_descent.py:648: ConvergenceWarning: Objective did not converge. You might want to increase the number of iterations, check the scale of the features or consider increasing regularisation. Duality gap: 2.565e+19, tolerance: 1.277e+16\n",
            "  coef_, l1_reg, l2_reg, X, y, max_iter, tol, rng, random, positive\n"
          ]
        },
        {
          "output_type": "stream",
          "name": "stdout",
          "text": [
            "For model_5  mean score is -1.1375674460090626e+16 and standard deviation is 1580935368093753.2\n"
          ]
        },
        {
          "output_type": "stream",
          "name": "stderr",
          "text": [
            "/usr/local/lib/python3.7/dist-packages/sklearn/linear_model/_coordinate_descent.py:648: ConvergenceWarning: Objective did not converge. You might want to increase the number of iterations, check the scale of the features or consider increasing regularisation. Duality gap: 2.710e+19, tolerance: 1.340e+16\n",
            "  coef_, l1_reg, l2_reg, X, y, max_iter, tol, rng, random, positive\n",
            "/usr/local/lib/python3.7/dist-packages/sklearn/linear_model/_coordinate_descent.py:648: ConvergenceWarning: Objective did not converge. You might want to increase the number of iterations, check the scale of the features or consider increasing regularisation. Duality gap: 2.743e+19, tolerance: 1.308e+16\n",
            "  coef_, l1_reg, l2_reg, X, y, max_iter, tol, rng, random, positive\n",
            "/usr/local/lib/python3.7/dist-packages/sklearn/linear_model/_coordinate_descent.py:648: ConvergenceWarning: Objective did not converge. You might want to increase the number of iterations, check the scale of the features or consider increasing regularisation. Duality gap: 2.845e+19, tolerance: 1.407e+16\n",
            "  coef_, l1_reg, l2_reg, X, y, max_iter, tol, rng, random, positive\n",
            "/usr/local/lib/python3.7/dist-packages/sklearn/linear_model/_coordinate_descent.py:648: ConvergenceWarning: Objective did not converge. You might want to increase the number of iterations, check the scale of the features or consider increasing regularisation. Duality gap: 2.811e+19, tolerance: 1.358e+16\n",
            "  coef_, l1_reg, l2_reg, X, y, max_iter, tol, rng, random, positive\n"
          ]
        },
        {
          "output_type": "stream",
          "name": "stdout",
          "text": [
            "For model_6  mean score is -1.1375674461112956e+16 and standard deviation is 1580935367404393.0\n",
            "{'Score': [-1.1375661981699176e+16, -1.1375673212364588e+16, -1.1375674441625148e+16, -1.137567445187992e+16, -1.1375674460090626e+16, -1.1375674461112956e+16], 'StandardDeviation': [1580937804402091.0, 1580935645267623.8, 1580935380514426.2, 1580935373614243.0, 1580935368093753.2, 1580935367404393.0]}\n"
          ]
        },
        {
          "output_type": "stream",
          "name": "stderr",
          "text": [
            "/usr/local/lib/python3.7/dist-packages/sklearn/linear_model/_coordinate_descent.py:648: ConvergenceWarning: Objective did not converge. You might want to increase the number of iterations, check the scale of the features or consider increasing regularisation. Duality gap: 2.569e+19, tolerance: 1.277e+16\n",
            "  coef_, l1_reg, l2_reg, X, y, max_iter, tol, rng, random, positive\n"
          ]
        }
      ]
    }
  ]
}
