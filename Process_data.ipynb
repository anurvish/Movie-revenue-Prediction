{
  "nbformat": 4,
  "nbformat_minor": 5,
  "metadata": {
    "kernelspec": {
      "display_name": "Python 3 (ipykernel)",
      "language": "python",
      "name": "python3"
    },
    "language_info": {
      "codemirror_mode": {
        "name": "ipython",
        "version": 3
      },
      "file_extension": ".py",
      "mimetype": "text/x-python",
      "name": "python",
      "nbconvert_exporter": "python",
      "pygments_lexer": "ipython3",
      "version": "3.9.9"
    },
    "colab": {
      "name": "Process_data (1).ipynb",
      "provenance": [],
      "collapsed_sections": []
    }
  },
  "cells": [
    {
      "cell_type": "code",
      "metadata": {
        "id": "5ac3804d-b189-4b96-a18e-2746d73ddabc"
      },
      "source": [
        "import pandas as pd\n",
        "import ast\n",
        "import numpy as np"
      ],
      "id": "5ac3804d-b189-4b96-a18e-2746d73ddabc",
      "execution_count": null,
      "outputs": []
    },
    {
      "cell_type": "code",
      "metadata": {
        "id": "1e935a7c-7220-4fa6-80dc-d1ac683717f7"
      },
      "source": [
        "curr_dir = \"\""
      ],
      "id": "1e935a7c-7220-4fa6-80dc-d1ac683717f7",
      "execution_count": null,
      "outputs": []
    },
    {
      "cell_type": "markdown",
      "metadata": {
        "id": "cf8d841f-aea4-4ee7-a2c4-ea8fb0f9d80c"
      },
      "source": [
        "Load data from files"
      ],
      "id": "cf8d841f-aea4-4ee7-a2c4-ea8fb0f9d80c"
    },
    {
      "cell_type": "code",
      "metadata": {
        "id": "73ed676b-7029-43e5-b24f-6c348bc231d2"
      },
      "source": [
        "movie_list = pd.read_csv(curr_dir + 'Movie_list.csv',delimiter = ',',quotechar = '\"')\n",
        "movie_details = pd.read_csv(curr_dir + 'movie_details.csv',delimiter = ',',quotechar = '\"').dropna(how='all').reset_index()\n",
        "cast_details = pd.read_csv(curr_dir + 'cast_details.csv',delimiter = ',',quotechar = '\"').dropna(how='all').reset_index()\n",
        "crew_details = pd.read_csv(curr_dir + 'crew_details.csv',delimiter = ',',quotechar = '\"',header=None,names=['adult', 'gender', 'id', 'known_for_department', 'name','original_name', 'popularity', 'profile_path','credit_id','department','job', 'movie_id','order']).dropna(how='all').reset_index()\n",
        "collection_details = pd.read_csv(curr_dir + 'Collection_details.csv',delimiter = ',',quotechar = '\"').dropna(how='all').reset_index()\n",
        "genre_list = pd.read_csv(curr_dir + 'data_genre.csv',delimiter = ',',quotechar = '\"').dropna(how='all').reset_index()"
      ],
      "id": "73ed676b-7029-43e5-b24f-6c348bc231d2",
      "execution_count": null,
      "outputs": []
    },
    {
      "cell_type": "code",
      "metadata": {
        "id": "2HK5Uq-PsbiZ"
      },
      "source": [
        "#Removing records with no target label\n",
        "movie_details.drop(index=movie_details[movie_details.revenue == 0].index,inplace=True)\n",
        "movie_details = movie_details.reset_index()"
      ],
      "id": "2HK5Uq-PsbiZ",
      "execution_count": null,
      "outputs": []
    },
    {
      "cell_type": "markdown",
      "metadata": {
        "id": "78a92c2e-6492-455b-b036-cb9a9398724a"
      },
      "source": [
        "Feature Selection"
      ],
      "id": "78a92c2e-6492-455b-b036-cb9a9398724a"
    },
    {
      "cell_type": "code",
      "metadata": {
        "id": "0c6d0122-2cf4-42d4-8163-43e6e383d4e4"
      },
      "source": [
        "#Keeping only relevant columns from each file\n",
        "features_movie_details = movie_details[['adult','belongs_to_collection','budget','genres','id','production_countries','release_date','revenue','runtime','original_language']]\n",
        "features_cast_details = cast_details[['gender','known_for_department','popularity','movie_id','order']]\n",
        "features_crew_details = crew_details[['gender','known_for_department','popularity','department','movie_id','order']]\n",
        "features_collection_details = collection_details[['id','parts']]"
      ],
      "id": "0c6d0122-2cf4-42d4-8163-43e6e383d4e4",
      "execution_count": null,
      "outputs": []
    },
    {
      "cell_type": "markdown",
      "metadata": {
        "id": "9ae58654-836f-474e-afd2-ff70a36d0dfc"
      },
      "source": [
        "Data Processing and Feature Creation"
      ],
      "id": "9ae58654-836f-474e-afd2-ff70a36d0dfc"
    },
    {
      "cell_type": "code",
      "metadata": {
        "colab": {
          "base_uri": "https://localhost:8080/"
        },
        "id": "ed243d07-7ad3-477b-bbdd-5b9f6d5d8656",
        "outputId": "4974f01f-c0c4-4279-db36-4d6cbe155897"
      },
      "source": [
        "#Creating Collection popularity field by taking the average of popularities of all movies in a collection\n",
        "temp_df = pd.DataFrame(columns = ['collection_popularity'])\n",
        "index = 0\n",
        "for parts in collection_details['parts']:\n",
        "    temp = ast.literal_eval(parts)\n",
        "    sum_popularity = 0\n",
        "    parts = 0\n",
        "    for part in temp:\n",
        "        parts += 1\n",
        "        sum_popularity += part['popularity']\n",
        "    temp_df.loc[index] =  sum_popularity/parts\n",
        "    index += 1\n",
        "\n",
        "features_collection_details['collection_popularity'] = temp_df['collection_popularity']\n",
        "\n",
        "\n"
      ],
      "id": "ed243d07-7ad3-477b-bbdd-5b9f6d5d8656",
      "execution_count": null,
      "outputs": [
        {
          "output_type": "stream",
          "name": "stderr",
          "text": [
            "/usr/local/lib/python3.7/dist-packages/ipykernel_launcher.py:14: SettingWithCopyWarning: \n",
            "A value is trying to be set on a copy of a slice from a DataFrame.\n",
            "Try using .loc[row_indexer,col_indexer] = value instead\n",
            "\n",
            "See the caveats in the documentation: https://pandas.pydata.org/pandas-docs/stable/user_guide/indexing.html#returning-a-view-versus-a-copy\n",
            "  \n"
          ]
        }
      ]
    },
    {
      "cell_type": "code",
      "metadata": {
        "id": "4f51d8eb-d3e3-47a6-be8d-8498d07edb66"
      },
      "source": [
        "#One hot encoding of genre field in movie details file.\n",
        "arr = np.zeros((7967,19))\n",
        "temp_fs_df = pd.DataFrame(arr,columns = (genre_list.name.unique())).add_suffix('_genre')\n",
        "for index,genres in enumerate(features_movie_details.genres):\n",
        "  try:\n",
        "    temp_genres = ast.literal_eval(genres)\n",
        "    for temp_genre in temp_genres:\n",
        "        attr = temp_genre['name'] + '_genre'\n",
        "        temp_fs_df[attr].loc[index] = 1\n",
        "        #print(temp_fs_df[temp_genre['name']].loc[index])\n",
        "  except:\n",
        "    print(genres)\n",
        "\n",
        "features_movie_details = pd.concat([features_movie_details,temp_fs_df],axis = 1,join='inner')"
      ],
      "id": "4f51d8eb-d3e3-47a6-be8d-8498d07edb66",
      "execution_count": null,
      "outputs": []
    },
    {
      "cell_type": "code",
      "metadata": {
        "id": "ead9a341-5cfc-4aae-97c6-a95c608261d8"
      },
      "source": [
        "#One hot encoding of gender field in cast details file\n",
        "arr = np.zeros((201491,4))\n",
        "temp_fs_df = pd.DataFrame(arr,columns = (features_cast_details.gender.unique())).add_suffix('_gender')\n",
        "for index,gender in enumerate(features_cast_details.gender):\n",
        "    attr = str((gender)) + '_gender'\n",
        "    temp_fs_df[attr].loc[index] = 1\n",
        "\n",
        "features_cast_details = pd.concat([features_cast_details,temp_fs_df],axis = 1,join='inner')"
      ],
      "id": "ead9a341-5cfc-4aae-97c6-a95c608261d8",
      "execution_count": null,
      "outputs": []
    },
    {
      "cell_type": "code",
      "metadata": {
        "id": "038c8679-6026-4851-9cab-6c8228daa388"
      },
      "source": [
        "#One hot encoding of gender field in crew details file\n",
        "arr = np.zeros((49122,4))\n",
        "temp_fs_df = pd.DataFrame(arr,columns = (features_crew_details.gender.unique())).add_suffix('_gender')\n",
        "for index,gender in enumerate(features_crew_details.gender):\n",
        "    attr = str(int(gender)) + '_gender'\n",
        "    temp_fs_df[attr].loc[index] = 1\n",
        "\n",
        "features_crew_details = pd.concat([features_crew_details,temp_fs_df],axis = 1,join='inner')\n",
        "features_cast_details.rename(columns={'0.0_gender':'0_gender','1.0_gender':'1_gender','2.0_gender':'2_gender','3.0_gender':'3_gender'},inplace= True)"
      ],
      "id": "038c8679-6026-4851-9cab-6c8228daa388",
      "execution_count": null,
      "outputs": []
    },
    {
      "cell_type": "code",
      "metadata": {
        "colab": {
          "base_uri": "https://localhost:8080/",
          "height": 216
        },
        "id": "a203e30c-1e6c-4b84-9454-6ed8e2ae3c0f",
        "outputId": "2d702bb2-6d35-498c-aa86-98292e4d2a26"
      },
      "source": [
        "#Updating belongs_to_collection field with only the id of collection and creating field Part_of_series\n",
        "features_movie_details['Part_of_series'] = 0\n",
        "for index,collection_info in enumerate(features_movie_details.belongs_to_collection):\n",
        "    if (collection_info == collection_info):\n",
        "        temp_info = ast.literal_eval(collection_info)\n",
        "        features_movie_details['belongs_to_collection'].loc[index] = temp_info['id']\n",
        "        features_movie_details['Part_of_series'].loc[index] = 1\n"
      ],
      "id": "a203e30c-1e6c-4b84-9454-6ed8e2ae3c0f",
      "execution_count": null,
      "outputs": [
        {
          "output_type": "stream",
          "name": "stderr",
          "text": [
            "/usr/local/lib/python3.7/dist-packages/pandas/core/indexing.py:670: SettingWithCopyWarning: \n",
            "A value is trying to be set on a copy of a slice from a DataFrame\n",
            "\n",
            "See the caveats in the documentation: https://pandas.pydata.org/pandas-docs/stable/user_guide/indexing.html#returning-a-view-versus-a-copy\n",
            "  iloc._setitem_with_indexer(indexer, value)\n"
          ]
        },
        {
          "output_type": "error",
          "ename": "SyntaxError",
          "evalue": "ignored",
          "traceback": [
            "\u001b[0;36m  File \u001b[0;32m\"<unknown>\"\u001b[0;36m, line \u001b[0;32m1\u001b[0m\n\u001b[0;31m    The resource you requested could not be found.\u001b[0m\n\u001b[0m               ^\u001b[0m\n\u001b[0;31mSyntaxError\u001b[0m\u001b[0;31m:\u001b[0m invalid syntax\n"
          ]
        }
      ]
    },
    {
      "cell_type": "code",
      "metadata": {
        "id": "b6b99978-007d-4831-8eef-2f8178883cb6",
        "outputId": "e6d63332-6999-4c37-923f-2b94c6e52f32"
      },
      "source": [
        "#Due to large number of production countries, this field was left out of the analysis\n",
        "production_countries = []\n",
        "for index,production_country in enumerate(movie_details.production_countries):\n",
        "    temp_pcs = ast.literal_eval(production_country)\n",
        "    for temp_pc in temp_pcs:\n",
        "        if (temp_pc['name'] in production_countries):\n",
        "            continue\n",
        "        else:\n",
        "            production_countries.append(temp_pc['name'])\n",
        "\n",
        "len(production_countries)"
      ],
      "id": "b6b99978-007d-4831-8eef-2f8178883cb6",
      "execution_count": null,
      "outputs": [
        {
          "data": {
            "text/plain": [
              "112"
            ]
          },
          "execution_count": 43,
          "metadata": {},
          "output_type": "execute_result"
        }
      ]
    },
    {
      "cell_type": "code",
      "metadata": {
        "id": "89023c04-ea6a-43d0-86a1-d11ca5c0f44f"
      },
      "source": [
        "#Creating fields Acting relevance in cast details and directing relevance in crew details\n",
        "features_cast_details['Acting_relevance'] = 1\n",
        "features_cast_details[features_cast_details.known_for_department != 'Acting'] = 0\n",
        "\n",
        "features_crew_details['Directing_relevance'] = 1\n",
        "features_crew_details[features_crew_details.known_for_department != 'Directing'] = 0"
      ],
      "id": "89023c04-ea6a-43d0-86a1-d11ca5c0f44f",
      "execution_count": null,
      "outputs": []
    },
    {
      "cell_type": "markdown",
      "metadata": {
        "id": "dfaf150e-047b-40ff-9a9e-ef93727c8e3d"
      },
      "source": [
        "Merge Datasets and create final dataset"
      ],
      "id": "dfaf150e-047b-40ff-9a9e-ef93727c8e3d"
    },
    {
      "cell_type": "code",
      "metadata": {
        "id": "e2b2d57c-271f-4fe7-b9f6-c2c3510d3402"
      },
      "source": [
        "#Adding suffix to column headers to avoid confusion after joins\n",
        "features_movie_details = features_movie_details.add_suffix('_main')\n",
        "features_cast_details = features_cast_details.add_suffix('_cast')\n",
        "features_crew_details = features_crew_details.add_suffix('_crew')\n",
        "features_collection_details = features_collection_details.add_suffix('_coll_details')"
      ],
      "id": "e2b2d57c-271f-4fe7-b9f6-c2c3510d3402",
      "execution_count": null,
      "outputs": []
    },
    {
      "cell_type": "code",
      "metadata": {
        "id": "9568add5-b771-419b-9b7f-3bd413af44c4"
      },
      "source": [
        "#Removing duplicates from collection details file to give unique collections\n",
        "features_collection_details.drop_duplicates(subset=['id_coll_details'],keep='first',inplace= True)"
      ],
      "id": "9568add5-b771-419b-9b7f-3bd413af44c4",
      "execution_count": null,
      "outputs": []
    },
    {
      "cell_type": "code",
      "metadata": {
        "id": "ce98bd88-a3b9-4da1-9f6e-bd8c851d56f3"
      },
      "source": [
        "#Joining movie details with collection details\n",
        "overall_Data = pd.merge(features_movie_details,features_collection_details, left_on = 'belongs_to_collection_main',right_on = \"id_coll_details\",how=\"left\",validate=\"many_to_one\")\n",
        "\n",
        "#Joining new dataframe with crew details. This was done in three joins to get the all the crew for a movie in the same record\n",
        "overall_Data = pd.merge(overall_Data, features_crew_details[features_crew_details.order_crew == 1.0],left_on = 'id_main',right_on = \"movie_id_crew\", suffixes = ('','_1'),how=\"left\")\n",
        "overall_Data = pd.merge(overall_Data, features_crew_details[features_crew_details.order_crew == 2.0],left_on = 'id_main',right_on = \"movie_id_crew\", suffixes = ('','_2'),how=\"left\")\n",
        "overall_Data = pd.merge(overall_Data, features_crew_details[features_crew_details.order_crew == 3.0],left_on = 'id_main',right_on = \"movie_id_crew\", suffixes = ('','_3'),how=\"left\")\n",
        "\n",
        "#Joining new dataframe with cast details. This was done in five joins to get the all the cast for a movie in the same record\n",
        "overall_Data = pd.merge(overall_Data, features_cast_details[features_cast_details.order_cast == 1.0],left_on = 'id_main', right_on = 'movie_id_cast', suffixes = ('','_1'),how=\"left\")\n",
        "overall_Data = pd.merge(overall_Data, features_cast_details[features_cast_details.order_cast == 2.0],left_on = 'id_main', right_on = 'movie_id_cast', suffixes = ('','_2'),how=\"left\")\n",
        "overall_Data = pd.merge(overall_Data, features_cast_details[features_cast_details.order_cast == 3.0],left_on = 'id_main', right_on = 'movie_id_cast', suffixes = ('','_3'),how=\"left\")\n",
        "overall_Data = pd.merge(overall_Data, features_cast_details[features_cast_details.order_cast == 4.0],left_on = 'id_main', right_on = 'movie_id_cast', suffixes = ('','_4'),how=\"left\")\n",
        "overall_Data = pd.merge(overall_Data, features_cast_details[features_cast_details.order_cast == 5.0],left_on = 'id_main', right_on = 'movie_id_cast', suffixes = ('','_5'),how=\"left\")"
      ],
      "id": "ce98bd88-a3b9-4da1-9f6e-bd8c851d56f3",
      "execution_count": null,
      "outputs": []
    },
    {
      "cell_type": "code",
      "metadata": {
        "id": "162a0f0e-2469-40fa-902a-f2b4eec0b1d9"
      },
      "source": [
        "#Cleaning the joined dataset and creating final dataset for export\n",
        "overall_Data.drop_duplicates(subset=['id_main'],keep='first',inplace= True)\n",
        "final_data = overall_Data[['adult_main','budget_main','id_main','release_date_main','revenue_main','runtime_main','original_language_main','Action_genre_main','Adventure_genre_main','Animation_genre_main','Comedy_genre_main','Crime_genre_main','Documentary_genre_main','Drama_genre_main','Family_genre_main','Fantasy_genre_main','History_genre_main','Horror_genre_main','Music_genre_main','Mystery_genre_main','Romance_genre_main','Science Fiction_genre_main','TV Movie_genre_main','Thriller_genre_main','War_genre_main','Western_genre_main','collection_popularity_coll_details','popularity_crew','0_gender_crew','1_gender_crew','2_gender_crew','3_gender_crew','Directing_relevance_crew','popularity_crew_2','0_gender_crew_2','1_gender_crew_2','2_gender_crew_2','3_gender_crew_2','Directing_relevance_crew_2','popularity_crew_3','0_gender_crew_3','1_gender_crew_3','2_gender_crew_3','3_gender_crew_3','Directing_relevance_crew_3','popularity_cast','2_gender_cast','1_gender_cast','0_gender_cast','3_gender_cast','Acting_relevance_cast','popularity_cast_2','2_gender_cast_2','1_gender_cast_2','0_gender_cast_2','3_gender_cast_2','Acting_relevance_cast_2','popularity_cast_3','2_gender_cast_3','1_gender_cast_3','0_gender_cast_3','3_gender_cast_3','Acting_relevance_cast_3','popularity_cast_4','2_gender_cast_4','1_gender_cast_4','0_gender_cast_4','3_gender_cast_4','Acting_relevance_cast_4','popularity_cast_5','2_gender_cast_5','1_gender_cast_5','0_gender_cast_5','3_gender_cast_5','Acting_relevance_cast_5']]\n",
        "final_data.dropna(how = 'all',subset=['popularity_crew','0_gender_crew','1_gender_crew','2_gender_crew','3_gender_crew','Directing_relevance_crew','popularity_crew_2','0_gender_crew_2','1_gender_crew_2','2_gender_crew_2','3_gender_crew_2','Directing_relevance_crew_2','popularity_crew_3','0_gender_crew_3','1_gender_crew_3','2_gender_crew_3','3_gender_crew_3','Directing_relevance_crew_3','popularity_cast','2_gender_cast','1_gender_cast','0_gender_cast','3_gender_cast','Acting_relevance_cast','popularity_cast_2','2_gender_cast_2','1_gender_cast_2','0_gender_cast_2','3_gender_cast_2','Acting_relevance_cast_2','popularity_cast_3','2_gender_cast_3','1_gender_cast_3','0_gender_cast_3','3_gender_cast_3','Acting_relevance_cast_3','popularity_cast_4','2_gender_cast_4','1_gender_cast_4','0_gender_cast_4','3_gender_cast_4','Acting_relevance_cast_4','popularity_cast_5','2_gender_cast_5','1_gender_cast_5','0_gender_cast_5','3_gender_cast_5','Acting_relevance_cast_5'],inplace=True)\n",
        "final_data.set_index('id_main')\n",
        "\n",
        "#for all numeric fields, replacing nan with 0s\n",
        "for str in ['popularity_crew','0_gender_crew','1_gender_crew','2_gender_crew','3_gender_crew','Directing_relevance_crew','popularity_crew_2','0_gender_crew_2','1_gender_crew_2','2_gender_crew_2','3_gender_crew_2','Directing_relevance_crew_2','popularity_crew_3','0_gender_crew_3','1_gender_crew_3','2_gender_crew_3','3_gender_crew_3','Directing_relevance_crew_3','popularity_cast','2_gender_cast','1_gender_cast','0_gender_cast','3_gender_cast','Acting_relevance_cast','popularity_cast_2','2_gender_cast_2','1_gender_cast_2','0_gender_cast_2','3_gender_cast_2','Acting_relevance_cast_2','popularity_cast_3','2_gender_cast_3','1_gender_cast_3','0_gender_cast_3','3_gender_cast_3','Acting_relevance_cast_3','popularity_cast_4','2_gender_cast_4','1_gender_cast_4','0_gender_cast_4','3_gender_cast_4','Acting_relevance_cast_4','popularity_cast_5','2_gender_cast_5','1_gender_cast_5','0_gender_cast_5','3_gender_cast_5','Acting_relevance_cast_5']:\n",
        "    final_data[str].replace(np.nan,0,inplace=True)\n",
        "\n",
        "#Dropping records for which target variable was not available\n",
        "final_data = final_data[final_data.revenue_main != 0]\n",
        "\n",
        "#Replacing 0 values of budget with mean of budget\n",
        "final_data[final_data.budget_main == 0]['budget_main'] = final_data['budget_main'].mean()"
      ],
      "id": "162a0f0e-2469-40fa-902a-f2b4eec0b1d9",
      "execution_count": null,
      "outputs": []
    },
    {
      "cell_type": "code",
      "metadata": {
        "id": "bGh8HMji1ISP"
      },
      "source": [
        "#Exporting final dataset for model training\n",
        "final_data = final_data.reindex(columns=['revenue_main','adult_main', 'budget_main', 'id_main', 'release_date_main',\n",
        "       'runtime_main', 'original_language_main',\n",
        "       'Action_genre_main', 'Adventure_genre_main', 'Animation_genre_main',\n",
        "       'Comedy_genre_main', 'Crime_genre_main', 'Documentary_genre_main',\n",
        "       'Drama_genre_main', 'Family_genre_main', 'Fantasy_genre_main',\n",
        "       'History_genre_main', 'Horror_genre_main', 'Music_genre_main',\n",
        "       'Mystery_genre_main', 'Romance_genre_main',\n",
        "       'Science Fiction_genre_main', 'TV Movie_genre_main',\n",
        "       'Thriller_genre_main', 'War_genre_main', 'Western_genre_main',\n",
        "       'collection_popularity_coll_details', 'popularity_crew',\n",
        "       '0_gender_crew', '1_gender_crew', '2_gender_crew', '3_gender_crew',\n",
        "       'Directing_relevance_crew', 'popularity_crew_2', '0_gender_crew_2',\n",
        "       '1_gender_crew_2', '2_gender_crew_2', '3_gender_crew_2',\n",
        "       'Directing_relevance_crew_2', 'popularity_crew_3', '0_gender_crew_3',\n",
        "       '1_gender_crew_3', '2_gender_crew_3', '3_gender_crew_3',\n",
        "       'Directing_relevance_crew_3', 'popularity_cast', '2_gender_cast',\n",
        "       '1_gender_cast', '0_gender_cast', '3_gender_cast',\n",
        "       'Acting_relevance_cast', 'popularity_cast_2', '2_gender_cast_2',\n",
        "       '1_gender_cast_2', '0_gender_cast_2', '3_gender_cast_2',\n",
        "       'Acting_relevance_cast_2', 'popularity_cast_3', '2_gender_cast_3',\n",
        "       '1_gender_cast_3', '0_gender_cast_3', '3_gender_cast_3',\n",
        "       'Acting_relevance_cast_3', 'popularity_cast_4', '2_gender_cast_4',\n",
        "       '1_gender_cast_4', '0_gender_cast_4', '3_gender_cast_4',\n",
        "       'Acting_relevance_cast_4', 'popularity_cast_5', '2_gender_cast_5',\n",
        "       '1_gender_cast_5', '0_gender_cast_5', '3_gender_cast_5',\n",
        "       'Acting_relevance_cast_5'])\n",
        "\n",
        "final_data.drop(labels=['original_language_main'],axis=1,inplace=True)\n",
        "final_data.to_csv(curr_dir + 'final_data.csv')"
      ],
      "id": "bGh8HMji1ISP",
      "execution_count": null,
      "outputs": []
    }
  ]
}