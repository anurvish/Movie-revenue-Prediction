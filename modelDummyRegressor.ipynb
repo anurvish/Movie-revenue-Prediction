{
  "nbformat": 4,
  "nbformat_minor": 0,
  "metadata": {
    "colab": {
      "name": "modelDummyRegressor.ipynb",
      "provenance": [],
      "collapsed_sections": []
    },
    "kernelspec": {
      "name": "python3",
      "display_name": "Python 3"
    },
    "language_info": {
      "name": "python"
    }
  },
  "cells": [
    {
      "cell_type": "code",
      "metadata": {
        "id": "DZ28y7Q1D0Vk"
      },
      "source": [
        "import pandas as pd\n",
        "import numpy as np\n",
        "import math\n",
        "from sklearn.model_selection import train_test_split\n",
        "from sklearn.linear_model import LinearRegression\n",
        "from sklearn.preprocessing import normalize,StandardScaler,MinMaxScaler\n",
        "from sklearn.model_selection import KFold\n",
        "from sklearn.metrics import mean_squared_error,r2_score\n",
        "from sklearn.dummy import DummyRegressor\n",
        "import matplotlib.pyplot as plt"
      ],
      "execution_count": 2,
      "outputs": []
    },
    {
      "cell_type": "code",
      "metadata": {
        "id": "9LtOEkWuEaB3"
      },
      "source": [
        "#reading the data from CSV file\n",
        "df = pd.read_csv(\"final_data.csv\", )\n",
        "\n",
        "#Obtained preprocessed data\n",
        "df = df.replace(np.NaN, 0)\n",
        "\n",
        "#dropping columns considered as not available during movie conception stage and irrelevant columns\n",
        "df.drop(labels=['Unnamed: 0'],axis=1,inplace=True)\n",
        "df.drop(labels=['release_date_main'],axis=1,inplace=True)\n",
        "df.drop(labels=['id_main'],axis=1,inplace=True)\n",
        "df.drop(labels=['runtime_main'],axis=1,inplace=True)\n",
        "\n",
        "#Splitting the data into Independent features and target variable \n",
        "Independent_features = df.iloc[:,1:]\n",
        "Target = df.iloc[:,0]\n",
        "Independent_features = Independent_features.replace(np.nan,0)"
      ],
      "execution_count": 3,
      "outputs": []
    },
    {
      "cell_type": "code",
      "metadata": {
        "id": "YZdjl4hPEfYm"
      },
      "source": [
        "# calculate Variance inflation factor for the given data frame\n",
        "def calculate_vif(df, features):    \n",
        "    vif, tolerance = {}, {}\n",
        "    # all the features that you want to examine\n",
        "    for feature in features:\n",
        "        # extract all the other features you will regress against\n",
        "        X = [f for f in features if f != feature]        \n",
        "        X, y = df[X], df[feature]\n",
        "        # extract r-squared from the fitb\n",
        "        r2 = LinearRegression().fit(X, y).score(X, y)                \n",
        "        \n",
        "        # calculate tolerance\n",
        "        tolerance[feature] = 1 - r2\n",
        "        # calculate VIF\n",
        "        vif[feature] = 1/(tolerance[feature])\n",
        "    # return VIF DataFrame\n",
        "    return pd.DataFrame({'VIF': vif, 'Tolerance': tolerance})"
      ],
      "execution_count": 4,
      "outputs": []
    },
    {
      "cell_type": "code",
      "metadata": {
        "colab": {
          "base_uri": "https://localhost:8080/",
          "height": 1000
        },
        "id": "JZ-iL5TMEf9B",
        "outputId": "27ab30be-4853-4486-ffbd-7df348ce926e"
      },
      "source": [
        "df_vif = calculate_vif(Independent_features,['budget_main','Action_genre_main',\n",
        "       'Adventure_genre_main', 'Animation_genre_main', 'Comedy_genre_main',\n",
        "       'Crime_genre_main', 'Documentary_genre_main', 'Drama_genre_main',\n",
        "       'Family_genre_main', 'Fantasy_genre_main', 'History_genre_main',\n",
        "       'Horror_genre_main', 'Music_genre_main', 'Mystery_genre_main',\n",
        "       'Romance_genre_main', 'Science Fiction_genre_main',\n",
        "       'TV Movie_genre_main', 'Thriller_genre_main', 'War_genre_main',\n",
        "       'Western_genre_main', 'collection_popularity_coll_details','popularity_crew', '0_gender_crew', '1_gender_crew',\n",
        "       '2_gender_crew','Directing_relevance_crew', 'popularity_crew_2',\n",
        "       '0_gender_crew_2', '1_gender_crew_2', '2_gender_crew_2','Directing_relevance_crew_2', 'popularity_crew_3',\n",
        "       '0_gender_crew_3', '1_gender_crew_3', '2_gender_crew_3','Directing_relevance_crew_3', 'popularity_cast',\n",
        "       '2_gender_cast', '1_gender_cast', '0_gender_cast', '3_gender_cast',\n",
        "       'Acting_relevance_cast', 'popularity_cast_2', '2_gender_cast_2',\n",
        "       \n",
        "       '1_gender_cast_2', '0_gender_cast_2', '3_gender_cast_2',\n",
        "       'Acting_relevance_cast_2', 'popularity_cast_3', '2_gender_cast_3',\n",
        "       '1_gender_cast_3', '0_gender_cast_3', '3_gender_cast_3',\n",
        "       'Acting_relevance_cast_3', 'popularity_cast_4', '2_gender_cast_4',\n",
        "       '1_gender_cast_4', '0_gender_cast_4', '3_gender_cast_4',\n",
        "       'Acting_relevance_cast_4', 'popularity_cast_5', '2_gender_cast_5',\n",
        "       '1_gender_cast_5', '0_gender_cast_5', '3_gender_cast_5',\n",
        "       'Acting_relevance_cast_5'])\n",
        "\n",
        "df_vif"
      ],
      "execution_count": 5,
      "outputs": [
        {
          "output_type": "stream",
          "name": "stderr",
          "text": [
            "/usr/local/lib/python3.7/dist-packages/ipykernel_launcher.py:15: RuntimeWarning: divide by zero encountered in double_scalars\n",
            "  from ipykernel import kernelapp as app\n",
            "/usr/local/lib/python3.7/dist-packages/ipykernel_launcher.py:15: RuntimeWarning: divide by zero encountered in double_scalars\n",
            "  from ipykernel import kernelapp as app\n",
            "/usr/local/lib/python3.7/dist-packages/ipykernel_launcher.py:15: RuntimeWarning: divide by zero encountered in double_scalars\n",
            "  from ipykernel import kernelapp as app\n",
            "/usr/local/lib/python3.7/dist-packages/ipykernel_launcher.py:15: RuntimeWarning: divide by zero encountered in double_scalars\n",
            "  from ipykernel import kernelapp as app\n",
            "/usr/local/lib/python3.7/dist-packages/ipykernel_launcher.py:15: RuntimeWarning: divide by zero encountered in double_scalars\n",
            "  from ipykernel import kernelapp as app\n",
            "/usr/local/lib/python3.7/dist-packages/ipykernel_launcher.py:15: RuntimeWarning: divide by zero encountered in double_scalars\n",
            "  from ipykernel import kernelapp as app\n",
            "/usr/local/lib/python3.7/dist-packages/ipykernel_launcher.py:15: RuntimeWarning: divide by zero encountered in double_scalars\n",
            "  from ipykernel import kernelapp as app\n",
            "/usr/local/lib/python3.7/dist-packages/ipykernel_launcher.py:15: RuntimeWarning: divide by zero encountered in double_scalars\n",
            "  from ipykernel import kernelapp as app\n",
            "/usr/local/lib/python3.7/dist-packages/ipykernel_launcher.py:15: RuntimeWarning: divide by zero encountered in double_scalars\n",
            "  from ipykernel import kernelapp as app\n",
            "/usr/local/lib/python3.7/dist-packages/ipykernel_launcher.py:15: RuntimeWarning: divide by zero encountered in double_scalars\n",
            "  from ipykernel import kernelapp as app\n",
            "/usr/local/lib/python3.7/dist-packages/ipykernel_launcher.py:15: RuntimeWarning: divide by zero encountered in double_scalars\n",
            "  from ipykernel import kernelapp as app\n",
            "/usr/local/lib/python3.7/dist-packages/ipykernel_launcher.py:15: RuntimeWarning: divide by zero encountered in double_scalars\n",
            "  from ipykernel import kernelapp as app\n",
            "/usr/local/lib/python3.7/dist-packages/ipykernel_launcher.py:15: RuntimeWarning: divide by zero encountered in double_scalars\n",
            "  from ipykernel import kernelapp as app\n",
            "/usr/local/lib/python3.7/dist-packages/ipykernel_launcher.py:15: RuntimeWarning: divide by zero encountered in double_scalars\n",
            "  from ipykernel import kernelapp as app\n",
            "/usr/local/lib/python3.7/dist-packages/ipykernel_launcher.py:15: RuntimeWarning: divide by zero encountered in double_scalars\n",
            "  from ipykernel import kernelapp as app\n",
            "/usr/local/lib/python3.7/dist-packages/ipykernel_launcher.py:15: RuntimeWarning: divide by zero encountered in double_scalars\n",
            "  from ipykernel import kernelapp as app\n",
            "/usr/local/lib/python3.7/dist-packages/ipykernel_launcher.py:15: RuntimeWarning: divide by zero encountered in double_scalars\n",
            "  from ipykernel import kernelapp as app\n",
            "/usr/local/lib/python3.7/dist-packages/ipykernel_launcher.py:15: RuntimeWarning: divide by zero encountered in double_scalars\n",
            "  from ipykernel import kernelapp as app\n",
            "/usr/local/lib/python3.7/dist-packages/ipykernel_launcher.py:15: RuntimeWarning: divide by zero encountered in double_scalars\n",
            "  from ipykernel import kernelapp as app\n",
            "/usr/local/lib/python3.7/dist-packages/ipykernel_launcher.py:15: RuntimeWarning: divide by zero encountered in double_scalars\n",
            "  from ipykernel import kernelapp as app\n",
            "/usr/local/lib/python3.7/dist-packages/ipykernel_launcher.py:15: RuntimeWarning: divide by zero encountered in double_scalars\n",
            "  from ipykernel import kernelapp as app\n",
            "/usr/local/lib/python3.7/dist-packages/ipykernel_launcher.py:15: RuntimeWarning: divide by zero encountered in double_scalars\n",
            "  from ipykernel import kernelapp as app\n",
            "/usr/local/lib/python3.7/dist-packages/ipykernel_launcher.py:15: RuntimeWarning: divide by zero encountered in double_scalars\n",
            "  from ipykernel import kernelapp as app\n",
            "/usr/local/lib/python3.7/dist-packages/ipykernel_launcher.py:15: RuntimeWarning: divide by zero encountered in double_scalars\n",
            "  from ipykernel import kernelapp as app\n",
            "/usr/local/lib/python3.7/dist-packages/ipykernel_launcher.py:15: RuntimeWarning: divide by zero encountered in double_scalars\n",
            "  from ipykernel import kernelapp as app\n",
            "/usr/local/lib/python3.7/dist-packages/ipykernel_launcher.py:15: RuntimeWarning: divide by zero encountered in double_scalars\n",
            "  from ipykernel import kernelapp as app\n",
            "/usr/local/lib/python3.7/dist-packages/ipykernel_launcher.py:15: RuntimeWarning: divide by zero encountered in double_scalars\n",
            "  from ipykernel import kernelapp as app\n",
            "/usr/local/lib/python3.7/dist-packages/ipykernel_launcher.py:15: RuntimeWarning: divide by zero encountered in double_scalars\n",
            "  from ipykernel import kernelapp as app\n",
            "/usr/local/lib/python3.7/dist-packages/ipykernel_launcher.py:15: RuntimeWarning: divide by zero encountered in double_scalars\n",
            "  from ipykernel import kernelapp as app\n"
          ]
        },
        {
          "output_type": "execute_result",
          "data": {
            "text/html": [
              "<div>\n",
              "<style scoped>\n",
              "    .dataframe tbody tr th:only-of-type {\n",
              "        vertical-align: middle;\n",
              "    }\n",
              "\n",
              "    .dataframe tbody tr th {\n",
              "        vertical-align: top;\n",
              "    }\n",
              "\n",
              "    .dataframe thead th {\n",
              "        text-align: right;\n",
              "    }\n",
              "</style>\n",
              "<table border=\"1\" class=\"dataframe\">\n",
              "  <thead>\n",
              "    <tr style=\"text-align: right;\">\n",
              "      <th></th>\n",
              "      <th>VIF</th>\n",
              "      <th>Tolerance</th>\n",
              "    </tr>\n",
              "  </thead>\n",
              "  <tbody>\n",
              "    <tr>\n",
              "      <th>budget_main</th>\n",
              "      <td>1.682974e+00</td>\n",
              "      <td>5.941862e-01</td>\n",
              "    </tr>\n",
              "    <tr>\n",
              "      <th>Action_genre_main</th>\n",
              "      <td>1.498576e+00</td>\n",
              "      <td>6.673004e-01</td>\n",
              "    </tr>\n",
              "    <tr>\n",
              "      <th>Adventure_genre_main</th>\n",
              "      <td>1.439183e+00</td>\n",
              "      <td>6.948388e-01</td>\n",
              "    </tr>\n",
              "    <tr>\n",
              "      <th>Animation_genre_main</th>\n",
              "      <td>1.642823e+00</td>\n",
              "      <td>6.087084e-01</td>\n",
              "    </tr>\n",
              "    <tr>\n",
              "      <th>Comedy_genre_main</th>\n",
              "      <td>1.518143e+00</td>\n",
              "      <td>6.586993e-01</td>\n",
              "    </tr>\n",
              "    <tr>\n",
              "      <th>...</th>\n",
              "      <td>...</td>\n",
              "      <td>...</td>\n",
              "    </tr>\n",
              "    <tr>\n",
              "      <th>2_gender_cast_5</th>\n",
              "      <td>inf</td>\n",
              "      <td>0.000000e+00</td>\n",
              "    </tr>\n",
              "    <tr>\n",
              "      <th>1_gender_cast_5</th>\n",
              "      <td>inf</td>\n",
              "      <td>0.000000e+00</td>\n",
              "    </tr>\n",
              "    <tr>\n",
              "      <th>0_gender_cast_5</th>\n",
              "      <td>9.007199e+15</td>\n",
              "      <td>1.110223e-16</td>\n",
              "    </tr>\n",
              "    <tr>\n",
              "      <th>3_gender_cast_5</th>\n",
              "      <td>inf</td>\n",
              "      <td>0.000000e+00</td>\n",
              "    </tr>\n",
              "    <tr>\n",
              "      <th>Acting_relevance_cast_5</th>\n",
              "      <td>inf</td>\n",
              "      <td>0.000000e+00</td>\n",
              "    </tr>\n",
              "  </tbody>\n",
              "</table>\n",
              "<p>66 rows × 2 columns</p>\n",
              "</div>"
            ],
            "text/plain": [
              "                                  VIF     Tolerance\n",
              "budget_main              1.682974e+00  5.941862e-01\n",
              "Action_genre_main        1.498576e+00  6.673004e-01\n",
              "Adventure_genre_main     1.439183e+00  6.948388e-01\n",
              "Animation_genre_main     1.642823e+00  6.087084e-01\n",
              "Comedy_genre_main        1.518143e+00  6.586993e-01\n",
              "...                               ...           ...\n",
              "2_gender_cast_5                   inf  0.000000e+00\n",
              "1_gender_cast_5                   inf  0.000000e+00\n",
              "0_gender_cast_5          9.007199e+15  1.110223e-16\n",
              "3_gender_cast_5                   inf  0.000000e+00\n",
              "Acting_relevance_cast_5           inf  0.000000e+00\n",
              "\n",
              "[66 rows x 2 columns]"
            ]
          },
          "metadata": {},
          "execution_count": 5
        }
      ]
    },
    {
      "cell_type": "code",
      "metadata": {
        "id": "uaiEbkfsEhyF"
      },
      "source": [
        "#Retaining features that have vif value <5\n",
        "Independent_features = Independent_features[['budget_main','Action_genre_main',\n",
        "       'Adventure_genre_main', 'Animation_genre_main', 'Comedy_genre_main',\n",
        "       'Crime_genre_main', 'Documentary_genre_main', 'Drama_genre_main',\n",
        "       'Family_genre_main', 'Fantasy_genre_main', 'History_genre_main',\n",
        "       'Horror_genre_main', 'Music_genre_main', 'Mystery_genre_main',\n",
        "       'Romance_genre_main', 'Science Fiction_genre_main',\n",
        "       'TV Movie_genre_main', 'Thriller_genre_main', 'War_genre_main',\n",
        "       'Western_genre_main', 'collection_popularity_coll_details','popularity_crew', 'popularity_crew_2', 'popularity_crew_3', 'popularity_cast', \n",
        "       'popularity_cast_2', 'popularity_cast_3', 'popularity_cast_4', 'popularity_cast_5']]"
      ],
      "execution_count": 6,
      "outputs": []
    },
    {
      "cell_type": "code",
      "metadata": {
        "id": "ZNF0MBEQEklF"
      },
      "source": [
        "#Scaling budget and revenue columns\n",
        "mms_budget = MinMaxScaler()\n",
        "mms_budget.fit(Independent_features['budget_main'].to_numpy().reshape(-1,1))\n",
        "Independent_features['budget_main'] = mms_budget.fit_transform(Independent_features['budget_main'].to_numpy().reshape(-1,1))\n",
        "\n",
        "mms_revenue = MinMaxScaler()\n",
        "mms_revenue.fit(Target.values.reshape(-1,1))\n",
        "Target = mms_revenue.fit_transform(Target.values.reshape(-1,1))"
      ],
      "execution_count": 7,
      "outputs": []
    },
    {
      "cell_type": "code",
      "metadata": {
        "id": "ujkC2KxbEmvH"
      },
      "source": [
        "#splitting the final data into train and test data \n",
        "xtrain, xtest, ytrain, ytest = train_test_split(Independent_features, Target, test_size=0.2)"
      ],
      "execution_count": 8,
      "outputs": []
    },
    {
      "cell_type": "code",
      "metadata": {
        "colab": {
          "base_uri": "https://localhost:8080/"
        },
        "id": "TPwpzyxuJa2G",
        "outputId": "4a794cd4-fdc1-459d-c4a8-bcb4cb7b2070"
      },
      "source": [
        "#Baseline predictor with quantile strategy\n",
        "model = DummyRegressor(strategy='quantile',quantile=0.5).fit(xtrain,ytrain)\n",
        "print('Train R2 score: ' + str(r2_score(ytrain,model.predict(xtrain))))\n",
        "print('Test R2 score: ' + str(r2_score(ytest,model.predict(xtest))))\n",
        "\n",
        "print('Train RMSE score: ' + str(mean_squared_error(ytrain,model.predict(xtrain),squared=False)))\n",
        "print('Test RMSE score: ' + str(mean_squared_error(ytest,model.predict(xtest),squared=False)))"
      ],
      "execution_count": 33,
      "outputs": [
        {
          "output_type": "stream",
          "name": "stdout",
          "text": [
            "Train R2 score: -0.126057532112414\n",
            "Test R2 score: -0.12189918558682411\n",
            "Train RMSE score: 0.05902956187094679\n",
            "Test RMSE score: 0.06421976616663108\n"
          ]
        }
      ]
    },
    {
      "cell_type": "code",
      "metadata": {
        "colab": {
          "base_uri": "https://localhost:8080/"
        },
        "id": "06hP7s0UPS1W",
        "outputId": "ac9035d8-92e0-4d82-a386-18f57a431d97"
      },
      "source": [
        "#Baseline predictor with mean strategy\n",
        "model = DummyRegressor(strategy='mean').fit(xtrain,ytrain)\n",
        "print('Train R2 score: ' + str(r2_score(ytrain,model.predict(xtrain))))\n",
        "print('Test R2 score: ' + str(r2_score(ytest,model.predict(xtest))))\n",
        "\n",
        "print('Train RMSE score: ' + str(mean_squared_error(ytrain,model.predict(xtrain),squared=False)))\n",
        "print('Test RMSE score: ' + str(mean_squared_error(ytest,model.predict(xtest),squared=False)))"
      ],
      "execution_count": 34,
      "outputs": [
        {
          "output_type": "stream",
          "name": "stdout",
          "text": [
            "Train R2 score: 0.0\n",
            "Test R2 score: -0.0005472117328122472\n",
            "Train RMSE score: 0.055627465091578385\n",
            "Test RMSE score: 0.06064717789049086\n"
          ]
        }
      ]
    },
    {
      "cell_type": "code",
      "metadata": {
        "colab": {
          "base_uri": "https://localhost:8080/"
        },
        "id": "MzL1iZCHPd05",
        "outputId": "7215ef9c-6dbd-4c58-f229-9cc46d05045a"
      },
      "source": [
        "#Baseline predictor with median strategy\n",
        "model = DummyRegressor(strategy='median').fit(xtrain,ytrain)\n",
        "print('Train R2 score: ' + str(r2_score(ytrain,model.predict(xtrain))))\n",
        "print('Test R2 score: ' + str(r2_score(ytest,model.predict(xtest))))\n",
        "\n",
        "print('Train RMSE score: ' + str(mean_squared_error(ytrain,model.predict(xtrain),squared=False)))\n",
        "print('Test RMSE score: ' + str(mean_squared_error(ytest,model.predict(xtest),squared=False)))"
      ],
      "execution_count": 44,
      "outputs": [
        {
          "output_type": "stream",
          "name": "stdout",
          "text": [
            "Train R2 score: -0.126057532112414\n",
            "Test R2 score: -0.12189918558682411\n",
            "Train RMSE score: 0.05902956187094679\n",
            "Test RMSE score: 0.06421976616663108\n"
          ]
        }
      ]
    }
  ]
}