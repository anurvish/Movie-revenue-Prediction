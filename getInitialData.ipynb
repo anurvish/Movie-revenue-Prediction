{
  "nbformat": 4,
  "nbformat_minor": 0,
  "metadata": {
    "colab": {
      "name": "getData2.ipynb",
      "provenance": [],
      "collapsed_sections": []
    },
    "kernelspec": {
      "display_name": "Python 3",
      "name": "python3"
    },
    "language_info": {
      "name": "python"
    }
  },
  "cells": [
    {
      "cell_type": "code",
      "metadata": {
        "id": "9AZc55ytV6Si"
      },
      "source": [
        "#Importing required libraries\n",
        "import requests\n",
        "import locale\n",
        "import csv\n",
        "import pandas as pd\n",
        "import glob"
      ],
      "execution_count": null,
      "outputs": []
    },
    {
      "cell_type": "code",
      "metadata": {
        "id": "0Yu0HW80g5gL"
      },
      "source": [
        "#Using tmdb Genre API, extracting list of movie genres available \n",
        "data_file = open('data_genre.csv', 'w')\n",
        "csv_writer = csv.writer(data_file)\n",
        "genre = 'https://api.themoviedb.org/3/genre/movie/list?api_key=308b04f2b1399d2700c3d6209623e241&language=en-US'\n",
        "response = requests.get(genre)\n",
        "response_json = response.json()\n",
        "results = response_json['genres']\n",
        "csv_writer.writerow(results[0].keys())\n",
        "for result in results:\n",
        "  print(result)\n",
        "  csv_writer.writerow(result.values())\n",
        "data_file.close()"
      ],
      "execution_count": null,
      "outputs": []
    },
    {
      "cell_type": "code",
      "metadata": {
        "id": "kQxv26FmvWNv"
      },
      "source": [
        "#for all 19 genres, 200 pages of results were extracted. With 20 results per page, a total 79,000 results were expected however each genre did not have complete 4,000 movies, so overall approximately 75,000 results were extract\n",
        "genres = {'28','12','16','35','80','99','18','10751','14','36','27','10402','9648','10749','878','10770','53','10752','37'}\n",
        "for genre in genres:\n",
        "  data_file = open('data_file_genre_' + genre + '.csv', 'w')\n",
        "  csv_writer = csv.writer(data_file)\n",
        "\n",
        "  url1 = 'https://api.themoviedb.org/3/discover/movie?api_key=308b04f2b1399d2700c3d6209623e241&language=en&with_original_language=en&include_adult=true&with_genres=' + genre + '&page='\n",
        "\n",
        "  for x in range(200):\n",
        "    url = url1+str(x+1)\n",
        "    response = requests.get(url)\n",
        "    response_json = response.json()\n",
        "    results = response_json['results']\n",
        "    print(genre + ' ' + str(x))\n",
        "    if(x==0):\n",
        "      csv_writer.writerow(results[0].keys())\n",
        "    for result in results:\n",
        "      csv_writer.writerow(result.values())\n",
        "  data_file.close()"
      ],
      "execution_count": null,
      "outputs": []
    },
    {
      "cell_type": "code",
      "metadata": {
        "id": "O-rQ3NVjgljT"
      },
      "source": [
        "#Merge each genre file and de-dupe to create final Movie list\n",
        "all_files = glob.glob('*.csv')\n",
        "df_from_each_file = (pd.read_csv(f) for f in all_files)\n",
        "concatenated_df   = pd.concat(df_from_each_file, ignore_index=True)\n",
        "concatenated_df['id'].unique()\n",
        "concatenated_df.drop_duplicates(subset=['id'],keep='first').to_csv('Movie_list.csv')"
      ],
      "execution_count": null,
      "outputs": []
    }
  ]
}